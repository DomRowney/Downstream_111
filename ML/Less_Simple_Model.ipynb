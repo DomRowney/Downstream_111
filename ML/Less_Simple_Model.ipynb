{
 "cells": [
  {
   "cell_type": "markdown",
   "metadata": {},
   "source": [
    "## Packages"
   ]
  },
  {
   "cell_type": "code",
   "execution_count": null,
   "metadata": {},
   "outputs": [],
   "source": [
    "import pandas as pd\n",
    "import numpy as np\n",
    "from math import ceil\n",
    "import plotly.express as px\n",
    "## import matplotlib.pyplot as plt\n",
    "import sqlalchemy \n",
    "from sqlalchemy import create_engine, text\n",
    "\n",
    "import sys\n",
    "import os\n",
    "\n",
    "## Add the path of the functions folder\n",
    "current_dir = os.getcwd()  ## Gets the current working directory\n",
    "sub_dir = os.path.abspath(os.path.join(current_dir, '..'\n",
    "                                       , 'Functions'))\n",
    "sys.path.append(sub_dir)\n",
    "\n",
    "# Import functions\n",
    "from db_secrets import SQL_107\n",
    "from helpers import Trauma_Detect,Pregnancy_Detect"
   ]
  },
  {
   "cell_type": "code",
   "execution_count": null,
   "metadata": {},
   "outputs": [],
   "source": [
    "## Import machine learning methods\n",
    "\n",
    "from xgboost.sklearn import XGBClassifier\n",
    "\n",
    "from sklearn.model_selection import train_test_split\n",
    "from sklearn.tree import plot_tree\n",
    "from sklearn.preprocessing import LabelEncoder\n",
    "\n",
    "#from sklearn.ensemble import AdaBoostClassifier\n",
    "\n",
    "from sklearn.metrics import auc, roc_curve, RocCurveDisplay, f1_score, \\\n",
    "                            precision_score, recall_score, confusion_matrix, \\\n",
    "                            ConfusionMatrixDisplay, classification_report, \\\n",
    "                            accuracy_score\n"
   ]
  },
  {
   "cell_type": "markdown",
   "metadata": {},
   "source": [
    "## Connection"
   ]
  },
  {
   "cell_type": "code",
   "execution_count": null,
   "metadata": {},
   "outputs": [],
   "source": [
    "## text for query\n",
    "with open(\"../Exploratory_Analysis/111_sql.sql\", \"r\") as file:\n",
    "    query_text = file.read()\n",
    "\n",
    "query_text = query_text.replace('REPLACE START DATE','2024-01-01')"
   ]
  },
  {
   "cell_type": "code",
   "execution_count": null,
   "metadata": {},
   "outputs": [],
   "source": [
    "## Create an engine + connection\n",
    "engine = create_engine(SQL_107())\n",
    "conn = engine.connect()\n",
    "\n",
    "## Return data\n",
    "df_raw = pd.read_sql(query_text,conn)"
   ]
  },
  {
   "cell_type": "code",
   "execution_count": null,
   "metadata": {},
   "outputs": [],
   "source": [
    "## Makes working copy\n",
    "df = df_raw.copy()\n",
    "\n",
    "#df = df.sample(n=100000, random_state=42)"
   ]
  },
  {
   "cell_type": "markdown",
   "metadata": {},
   "source": [
    "## Wrangle"
   ]
  },
  {
   "cell_type": "code",
   "execution_count": null,
   "metadata": {},
   "outputs": [],
   "source": [
    "## List columns\n",
    "df.columns"
   ]
  },
  {
   "cell_type": "code",
   "execution_count": null,
   "metadata": {},
   "outputs": [],
   "source": [
    "df = df[['Call Connect Time'\n",
    "         ,'Bank Holiday'\n",
    "         , 'In_Out_Hours'\n",
    "         , 'Sub ICB Name'\n",
    "         ,'Outcome Type'\n",
    "         ,'GP Practice Code'\n",
    "         ,'Symptom_Group'\n",
    "         ,'Disposition Group'\n",
    "         ,'Disposition'\n",
    "         ,'Call_Taker_Triages'\n",
    "         ,'Clinical_Triages'         \n",
    "         ]].copy()"
   ]
  },
  {
   "cell_type": "code",
   "execution_count": null,
   "metadata": {},
   "outputs": [],
   "source": [
    "## Date time conversion to numeric\n",
    "df['Hour']    = df['Call Connect Time'].dt.hour\n",
    "df['year']    = df['Call Connect Time'].dt.year\n",
    "df['month']   = df['Call Connect Time'].dt.month\n",
    "df['day']     = df['Call Connect Time'].dt.day\n",
    "df['hour']    = df['Call Connect Time'].dt.hour\n",
    "df['weekday'] = df['Call Connect Time'].dt.weekday  # Monday=0, Sunday=6\n",
    "\n",
    "df = df.drop('Call Connect Time',axis=1) "
   ]
  },
  {
   "cell_type": "code",
   "execution_count": null,
   "metadata": {},
   "outputs": [],
   "source": [
    "## One hot encodinng for boolean variables\n",
    "bool_mapping = {\n",
    "    'Yes': True\n",
    "    ,'No': False\n",
    "    ,'In Hours': True\n",
    "    ,'Out of Hours': False\n",
    "    ,'1':True\n",
    "    ,'0':False\n",
    "}\n",
    "\n",
    "df.loc[:,'Is Bank Holiday'] = df['Bank Holiday'].map(bool_mapping)             \n",
    "df.loc[:,'In Hours'] = df['In_Out_Hours'].map(bool_mapping)\n",
    "df.loc[:,'Call_Taker_Triage'] = df['Call_Taker_Triages'].map(bool_mapping)\n",
    "df.loc[:,'Clinical_Triage'] = df['Clinical_Triages'].map(bool_mapping)\n",
    "\n",
    "df = df.drop(['Bank Holiday'\n",
    "              ,'In_Out_Hours'\n",
    "              ,'Call_Taker_Triages'\n",
    "              ,'Clinical_Triages'\n",
    "              ],axis=1) \n",
    "\n"
   ]
  },
  {
   "cell_type": "code",
   "execution_count": null,
   "metadata": {},
   "outputs": [],
   "source": [
    "## Apply trauma and pregnancy functions\n",
    "df.loc[:,\"Trauma_Type\"] = df[\"Symptom_Group\"].transform(lambda x: Trauma_Detect(x))\n",
    "df.loc[:,\"Pregnant\"] = df[\"Symptom_Group\"].transform(lambda x: Pregnancy_Detect(x))\n",
    "\n",
    "conditions = [', Blunt'\n",
    "              ,', Penetrating'\n",
    "              ,', Pregnant, Over 20 Weeks'\n",
    "              ,', Pregnant, Under 20 Weeks'\n",
    "              ,', Pregnant']\n",
    "\n",
    "for c in conditions:\n",
    "    df.loc[:,'Symptom_Group'] = (df['Symptom_Group'].str.replace(c,'', regex=True))"
   ]
  },
  {
   "cell_type": "code",
   "execution_count": null,
   "metadata": {},
   "outputs": [],
   "source": [
    "## Catergory data types\n",
    "category_list = [\"Sub ICB Name\"\n",
    "                ,\"Outcome Type\"\n",
    "                ,\"GP Practice Code\"\n",
    "                ,\"Symptom_Group\"\n",
    "                ,\"Disposition Group\"\n",
    "                ,\"Disposition\"\n",
    "                ,\"Trauma_Type\"\n",
    "                ,\"Pregnant\"\n",
    "                ,\"Trauma_Type\"\n",
    "                ,\"Pregnant\"]\n",
    "\n",
    "for c in category_list:\n",
    "    df[c] = df[c].astype(\"category\")"
   ]
  },
  {
   "cell_type": "code",
   "execution_count": null,
   "metadata": {},
   "outputs": [],
   "source": [
    "df.dtypes"
   ]
  },
  {
   "cell_type": "code",
   "execution_count": null,
   "metadata": {},
   "outputs": [],
   "source": [
    "df.head()"
   ]
  },
  {
   "cell_type": "markdown",
   "metadata": {},
   "source": [
    "## Split"
   ]
  },
  {
   "cell_type": "code",
   "execution_count": null,
   "metadata": {},
   "outputs": [],
   "source": [
    "X = df.drop('Outcome Type',axis=1) # X = all 'data' except the 'survived' column\n",
    "y = df['Outcome Type'] # y = 'survived' column from 'data'\n",
    "\n",
    "label_encoder_y = LabelEncoder()\n",
    "y_encoded = label_encoder_y.fit_transform(y)\n",
    "\n",
    "X_train, X_test, y_train, y_test = train_test_split(X\n",
    "                                                    , y_encoded \n",
    "                                                    , test_size = 0.25\n",
    "                                                    , random_state=42)"
   ]
  },
  {
   "cell_type": "markdown",
   "metadata": {},
   "source": [
    "## Fit decision tree model"
   ]
  },
  {
   "cell_type": "code",
   "execution_count": null,
   "metadata": {},
   "outputs": [],
   "source": [
    "model = XGBClassifier(use_label_encoder=False\n",
    "                      ,enable_categorical=True\n",
    "                      ,random_state=42)\n",
    "model = model.fit(X_train,y_train)"
   ]
  },
  {
   "cell_type": "markdown",
   "metadata": {},
   "source": [
    "## Predict values"
   ]
  },
  {
   "cell_type": "code",
   "execution_count": null,
   "metadata": {},
   "outputs": [],
   "source": [
    "## Predict training and test set labels\n",
    "y_pred_train = model.predict(X_train)\n",
    "y_pred_test = model.predict(X_test)"
   ]
  },
  {
   "cell_type": "markdown",
   "metadata": {},
   "source": [
    "## Accuracy"
   ]
  },
  {
   "cell_type": "code",
   "execution_count": null,
   "metadata": {},
   "outputs": [],
   "source": [
    "accuracy = accuracy_score(y_test, y_pred_test)\n",
    "report = classification_report(y_test, y_pred_test\n",
    "                               , target_names=label_encoder_y.classes_)\n"
   ]
  },
  {
   "cell_type": "code",
   "execution_count": null,
   "metadata": {},
   "outputs": [],
   "source": [
    "print(f'Accuracy: {accuracy:.2f}')\n",
    "print('Classification Report:\\n', report)"
   ]
  }
 ],
 "metadata": {
  "kernelspec": {
   "display_name": "Python 3",
   "language": "python",
   "name": "python3"
  },
  "language_info": {
   "codemirror_mode": {
    "name": "ipython",
    "version": 3
   },
   "file_extension": ".py",
   "mimetype": "text/x-python",
   "name": "python",
   "nbconvert_exporter": "python",
   "pygments_lexer": "ipython3",
   "version": "3.11.4"
  }
 },
 "nbformat": 4,
 "nbformat_minor": 2
}
