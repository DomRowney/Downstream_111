{
 "cells": [
  {
   "cell_type": "markdown",
   "metadata": {},
   "source": [
    "## Packages"
   ]
  },
  {
   "cell_type": "code",
   "execution_count": null,
   "metadata": {},
   "outputs": [],
   "source": [
    "import pandas as pd\n",
    "import numpy as np\n",
    "from math import ceil\n",
    "import plotly.express as px\n",
    "import sqlalchemy \n",
    "from sqlalchemy import create_engine, text\n",
    "from db_secrets import SQL_107"
   ]
  },
  {
   "cell_type": "markdown",
   "metadata": {},
   "source": [
    "## Test Connection"
   ]
  },
  {
   "cell_type": "code",
   "execution_count": null,
   "metadata": {},
   "outputs": [],
   "source": [
    "## text for query\n",
    "with open(\"111_sql.sql\", \"r\") as file:\n",
    "    query_text = file.read()\n",
    "\n",
    "query_text = query_text.replace('REPLACE START DATE','2024-01-01')"
   ]
  },
  {
   "cell_type": "code",
   "execution_count": null,
   "metadata": {},
   "outputs": [],
   "source": [
    "## Create an engine + connection\n",
    "engine = create_engine(SQL_107())\n",
    "conn = engine.connect()\n",
    "\n",
    "## Return data\n",
    "df_raw = pd.read_sql(query_text,conn)"
   ]
  },
  {
   "cell_type": "code",
   "execution_count": null,
   "metadata": {},
   "outputs": [],
   "source": [
    "## Makes working copy\n",
    "df = df_raw.copy()"
   ]
  },
  {
   "cell_type": "code",
   "execution_count": null,
   "metadata": {},
   "outputs": [],
   "source": [
    "## Function to round up to the nearest 5 for small number supression\n",
    "def round_up_to_5(x):\n",
    "        return ceil(x / 5) * 5"
   ]
  },
  {
   "cell_type": "code",
   "execution_count": null,
   "metadata": {},
   "outputs": [],
   "source": [
    "## Function to determine type of trauma symptom\n",
    "def Trauma_Detect(x):\n",
    "    if 'Blunt' in x:\n",
    "        return 'Blunt'\n",
    "    elif 'Penetrating' in x:\n",
    "        return 'Penetrating' \n",
    "    elif  'Trauma' in x:\n",
    "        return 'Other Trauma'\n",
    "    else:\n",
    "        return 'Not Trauma'"
   ]
  },
  {
   "cell_type": "code",
   "execution_count": null,
   "metadata": {},
   "outputs": [],
   "source": [
    "## Function to determine pregnancy\n",
    "def Pregnancy_Detect(x):\n",
    "    if 'Pregnant, Over 20 Weeks' in x:\n",
    "        return 'Over 20 Weeks'\n",
    "    elif 'Pregnant, Under 20 Weeks' in x:\n",
    "        return 'Under 20 Weeks' \n",
    "    elif  'Pregnant' in x:\n",
    "        return 'Other Pregnancy'\n",
    "    else:\n",
    "        return 'Not Pregnant'"
   ]
  },
  {
   "cell_type": "code",
   "execution_count": null,
   "metadata": {},
   "outputs": [],
   "source": [
    "## Function replace thing\n",
    "def replace_thing(data,col,x):\n",
    "    data.loc[:,col] = (data[col].str.replace(x,'', regex=True))\n",
    "    return data"
   ]
  },
  {
   "cell_type": "code",
   "execution_count": null,
   "metadata": {},
   "outputs": [],
   "source": [
    "df.columns"
   ]
  },
  {
   "cell_type": "code",
   "execution_count": null,
   "metadata": {},
   "outputs": [],
   "source": [
    "## Apply trauma and pregnancy functions\n",
    "df.loc[:,\"Trauma_Type\"] = df[\"Symptom_Group\"].transform(lambda x: Trauma_Detect(x))\n",
    "df.loc[:,\"Pregnant\"] = df[\"Symptom_Group\"].transform(lambda x: Pregnancy_Detect(x))\n",
    "\n",
    "conditions = [', Blunt'\n",
    "              ,', Penetrating'\n",
    "              ,', Pregnant, Over 20 Weeks'\n",
    "              ,', Pregnant, Under 20 Weeks'\n",
    "              ,', Pregnant']\n",
    "\n",
    "for c in conditions:    \n",
    "    df = replace_thing(df,'Symptom_Group',x=c)\n"
   ]
  },
  {
   "cell_type": "code",
   "execution_count": null,
   "metadata": {},
   "outputs": [],
   "source": [
    "## Function to generate Table One\n",
    "def generate_table1(data,group = None):\n",
    "\n",
    "    ## Number of rows\n",
    "    N_row = len(data)\n",
    "     \n",
    "    ## Separate numerical and categorical columns\n",
    "    numeric_cols = data.select_dtypes(include=['number']).columns\n",
    "    categorical_cols = data.select_dtypes(include=['object', 'category', 'bool']).columns\n",
    "    \n",
    "     ## filters to remove group, creates group item values\n",
    "    if group:\n",
    "        categorical_cols = [x for x in categorical_cols if x != group]\n",
    "        group_counts = df[group].value_counts()\n",
    "        items = (data.groupby(group)\n",
    "                    .size()\n",
    "                    .to_frame(name='count')\n",
    "                    .sort_values('count', ascending=False)\n",
    "                    .index)\n",
    "    \n",
    "    ## Initialize an empty list to collect rows for the summary DataFrame\n",
    "    summary_rows = []\n",
    "\n",
    "    ## Function to format median and quartiles\n",
    "    def median_iqr(col):\n",
    "        return f\"{col.median():.1f} ({col.quantile(0.25):.1f},{col.quantile(0.75):.1f})\"\n",
    "    \n",
    "    ## Function to format number and percent\n",
    "    def count_pc(data,col,level,group = None,group_counts = None,item = None):\n",
    "        if group:\n",
    "            count = data.loc[data[group] == item, col].value_counts().get(level,0)\n",
    "            percent = (count / group_counts.get(item,0)) * 100\n",
    "        else:\n",
    "            count = data[col].value_counts().get(level, 0)\n",
    "            percent = (count / N_row) * 100\n",
    "        return f'{round_up_to_5(count):,} ({percent:.1f}%)'          \n",
    "\n",
    "    # Numeric data summary (median IQR)\n",
    "    for col in numeric_cols:\n",
    "        row = {'Characteristic': f'{col} (median, IQR)'\n",
    "               ,'Level': ''}\n",
    "        if group:  \n",
    "            for item in items:               \n",
    "                item_value = median_iqr(data.loc[data[group] == item, col])\n",
    "                row[f'{item}, N={round_up_to_5(group_counts.get(item,0)):,}'] = item_value\n",
    "        row[f'Overall, N={round_up_to_5(N_row):,}'] = median_iqr(data[col])\n",
    "        summary_rows.append(row)\n",
    "\n",
    "    # Categorical data summary (each category level on a separate line)\n",
    "    for col in categorical_cols:       \n",
    "        levels = (data.groupby(col)\n",
    "                    .size()\n",
    "                    .to_frame(name='count')\n",
    "                    .sort_values('count', ascending=False)\n",
    "                    .index)\n",
    "\n",
    "        for level in levels:\n",
    "            row = { 'Characteristic': f'{col} (N, %)'\n",
    "                , 'Level': f'{level}'}\n",
    "            if group:  \n",
    "                for item in items:\n",
    "                    item_value = count_pc(data,col,level,group,group_counts,item)\n",
    "                    row[f'{item}, N={round_up_to_5(group_counts.get(item,0)):,}'] = item_value\n",
    "            row[f'Overall, N={round_up_to_5(N_row):,}'] = count_pc(data,col,level)\n",
    "            summary_rows.append(row)\n",
    "\n",
    "\n",
    "    # Convert the summary rows to a DataFrame\n",
    "    table1_df = pd.DataFrame(summary_rows).set_index('Characteristic')\n",
    "    return table1_df\n",
    "\n"
   ]
  },
  {
   "cell_type": "code",
   "execution_count": null,
   "metadata": {},
   "outputs": [],
   "source": [
    "## Inital Table One\n",
    "df_table_one = df[[  'Sub ICB Name', 'Disposition Group'\n",
    "                     ,'In_Out_Hours', 'Call_Taker_Triages', 'Clinical_Triages'\n",
    "                     ,'Patient Age', 'Patient Sex', 'Outcome Type'\n",
    "                     ,'Outcome Location Name', 'Hours to Outcome']].copy()\n",
    "\n",
    "table_one = generate_table1(df_table_one,group='Outcome Type')\n",
    "\n",
    "table_one"
   ]
  },
  {
   "cell_type": "code",
   "execution_count": null,
   "metadata": {},
   "outputs": [],
   "source": [
    "## Symptom Group\n",
    "df_table_two = df[['Trauma_Type','Pregnant'\n",
    "                   ,'Symptom_Group','Outcome Type']].copy()\n",
    "\n",
    "table_two = generate_table1(df_table_two,group='Outcome Type')\n",
    "\n",
    "table_two"
   ]
  },
  {
   "cell_type": "code",
   "execution_count": null,
   "metadata": {},
   "outputs": [],
   "source": [
    "## Function to create week plot\n",
    "def create_week_plot(data,timestamp,title):\n",
    "    # Extract hour of day and day of week\n",
    "    data['hour'] = data[timestamp].dt.hour\n",
    "    data['day_of_week'] = data[timestamp].dt.dayofweek  # 0=Monday, 6=Sunday\n",
    "\n",
    "    ## Group by both day_of_week and hour and get counts\n",
    "    hourly_weekly_counts = data.groupby(['day_of_week', 'hour']).size().reset_index(name='count')\n",
    "\n",
    "    # Create a combined 'day-hour' category for a continuous x-axis\n",
    "    hourly_weekly_counts['day_hour'] = (hourly_weekly_counts['day_of_week'] * 24\n",
    "                                         + hourly_weekly_counts['hour'])\n",
    "\n",
    "    # Generate readable labels for each day-hour combination\n",
    "    hourly_weekly_counts['day_hour_label'] = [\n",
    "        f\"{['Mon', 'Tue', 'Wed', 'Thu', 'Fri', 'Sat', 'Sun'][int(i // 24)]}\\n{int(i % 24):02d}:00\"\n",
    "        for i in hourly_weekly_counts['day_hour']\n",
    "    ]\n",
    "\n",
    "    # Create the bar plot\n",
    "    fig = px.bar(\n",
    "        hourly_weekly_counts,\n",
    "        x='day_hour_label',\n",
    "        y='count',\n",
    "        title=title,\n",
    "        labels={'day_hour_label': \"Day Hour\"\n",
    "                , 'count': \"Count\"},\n",
    "    )\n",
    "\n",
    "    # Customize layout\n",
    "    fig.update_layout(\n",
    "        xaxis=dict(\n",
    "            tickangle=90\n",
    "        ),\n",
    "        template='plotly_white'\n",
    "    )\n",
    "\n",
    "    fig.show()\n",
    "\n"
   ]
  },
  {
   "cell_type": "code",
   "execution_count": null,
   "metadata": {},
   "outputs": [],
   "source": [
    "create_week_plot(df,'Call Connect Time','111 Call Connect Time by Day'+\n",
    "                                            ' of Week and Hour of Day')"
   ]
  },
  {
   "cell_type": "code",
   "execution_count": null,
   "metadata": {},
   "outputs": [],
   "source": [
    "## Function to month plot\n",
    "def create_month_plot(data,timestamp,bank_holiday,title):\n",
    "    # Extract date\n",
    "    data['date'] = data[timestamp].dt.date\n",
    "\n",
    "    ## Group by date\n",
    "    date_counts = (\n",
    "                data\n",
    "                .groupby(['date',bank_holiday])\n",
    "                .size()\n",
    "                .reset_index(name='count') )\n",
    "\n",
    "    ## Generate readable labels for each day\n",
    "    \n",
    "    ## Create the bar plot\n",
    "    fig = px.bar(\n",
    "        date_counts,\n",
    "        x='date',\n",
    "        y='count',\n",
    "        color=f'{bank_holiday}',  # Color bars based on public holiday status\n",
    "        title=title,\n",
    "        labels={'date': \"Date\"\n",
    "                , 'count': \"Count\"\n",
    "                ,f'{bank_holiday}': \"Bank Holiday\"},\n",
    "        color_discrete_map={'Yes': 'orange', 'No': 'skyblue'}  \n",
    "    )\n",
    "\n",
    "    # Customize layout\n",
    "    fig.update_layout(\n",
    "        xaxis=dict(\n",
    "            tickangle=90\n",
    "        ),\n",
    "        template='plotly_white'\n",
    "    )\n",
    "\n",
    "    fig.show()"
   ]
  },
  {
   "cell_type": "code",
   "execution_count": null,
   "metadata": {},
   "outputs": [],
   "source": [
    "create_month_plot(df,'Call Connect Time','Bank Holiday','111 Call Connect Time by Date')"
   ]
  }
 ],
 "metadata": {
  "kernelspec": {
   "display_name": "Python 3",
   "language": "python",
   "name": "python3"
  },
  "language_info": {
   "codemirror_mode": {
    "name": "ipython",
    "version": 3
   },
   "file_extension": ".py",
   "mimetype": "text/x-python",
   "name": "python",
   "nbconvert_exporter": "python",
   "pygments_lexer": "ipython3",
   "version": "3.11.4"
  }
 },
 "nbformat": 4,
 "nbformat_minor": 2
}
