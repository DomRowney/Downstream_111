{
 "cells": [
  {
   "cell_type": "markdown",
   "metadata": {},
   "source": [
    "## Packages"
   ]
  },
  {
   "cell_type": "code",
   "execution_count": null,
   "metadata": {},
   "outputs": [],
   "source": [
    "import pandas as pd\n",
    "import numpy as np\n",
    "from math import ceil\n",
    "import sqlalchemy \n",
    "from sqlalchemy import create_engine, text\n",
    "from db_secrets import SQL_107"
   ]
  },
  {
   "cell_type": "markdown",
   "metadata": {},
   "source": [
    "## Test Connection"
   ]
  },
  {
   "cell_type": "code",
   "execution_count": null,
   "metadata": {},
   "outputs": [],
   "source": [
    "## text for query\n",
    "query_text = \"\"\"\n",
    "             SELECT * \n",
    "                 , CONVERT(DATETIME,AE_Arrival,21) AS [AE_Arrival_Datetime]\n",
    "                 , CAST(DATEDIFF(MINUTE\n",
    "                             ,[Call Connect Time]\n",
    "                             ,CONVERT(DATETIME,AE_Arrival,21) )\n",
    "                        AS float)/60.0 AS [Hours_to_AE]\n",
    "             FROM [ReportingGateway].[dbo].[uec_111_V2]\n",
    "             WHERE [CallDate] >= '2023-01-01'\n",
    "             \"\"\""
   ]
  },
  {
   "cell_type": "code",
   "execution_count": null,
   "metadata": {},
   "outputs": [],
   "source": [
    "## Function to round up to the nearest 5 for small number supression\n",
    "def round_up_to_5(x):\n",
    "        return ceil(x / 5) * 5"
   ]
  },
  {
   "cell_type": "code",
   "execution_count": null,
   "metadata": {},
   "outputs": [],
   "source": [
    "## Create an engine + connection\n",
    "engine = create_engine(SQL_107())\n",
    "conn = engine.connect()\n",
    "\n",
    "## Return data\n",
    "df_raw = pd.read_sql(query_text,conn)"
   ]
  },
  {
   "cell_type": "code",
   "execution_count": null,
   "metadata": {},
   "outputs": [],
   "source": [
    "## Makes working copy\n",
    "df = df_raw.copy()"
   ]
  },
  {
   "cell_type": "code",
   "execution_count": null,
   "metadata": {},
   "outputs": [],
   "source": [
    "def Trauma_Detect(x):\n",
    "    if 'Blunt' in x:\n",
    "        return 'Blunt'\n",
    "    elif 'Penetrating' in x:\n",
    "        return 'Penetrating' \n",
    "    elif  'Trauma' in x:\n",
    "        return 'Other Trauma'\n",
    "    else:\n",
    "        return 'Not Trauma'"
   ]
  },
  {
   "cell_type": "code",
   "execution_count": null,
   "metadata": {},
   "outputs": [],
   "source": [
    "def Pregnancy_Detect(x):\n",
    "    if 'Pregnant, Over 20 Weeks' in x:\n",
    "        return 'Over 20 Weeks'\n",
    "    elif 'Pregnant, Under 20 Weeks' in x:\n",
    "        return 'Under 20 Weeks' \n",
    "    elif  'Pregnant' in x:\n",
    "        return 'Other Pregnancy'\n",
    "    else:\n",
    "        return 'Not Pregnant'"
   ]
  },
  {
   "cell_type": "code",
   "execution_count": null,
   "metadata": {},
   "outputs": [],
   "source": [
    "df.columns"
   ]
  },
  {
   "cell_type": "code",
   "execution_count": null,
   "metadata": {},
   "outputs": [],
   "source": [
    "df.loc[:,'Call_Taker_Triage'] = df['Call_Taker_Triages'].transform(lambda x: 'No' if x == 0 else 'Yes')\n",
    "df.loc[:,'Clinical_Triage'] = df['Clinical_Triages'].transform(lambda x: 'No' if x == 0 else 'Yes')\n",
    "\n",
    "df.loc[:,\"Trauma_Type\"] = df[\"SymptomGroup\"].transform(lambda x: Trauma_Detect(x))\n",
    "df.loc[:,\"Pregnant\"] = df[\"SymptomGroup\"].transform(lambda x: Pregnancy_Detect(x))\n",
    "\n",
    "df.loc[:,'SymptomGroup'] = df['SymptomGroup'].str.replace(', Blunt', '', regex=True)\n",
    "df.loc[:,'SymptomGroup'] = df['SymptomGroup'].str.replace(', Penetrating', '', regex=True)\n",
    "df.loc[:,'SymptomGroup'] = df['SymptomGroup'].str.replace(', Pregnant, Over 20 Weeks', '', regex=True)\n",
    "df.loc[:,'SymptomGroup'] = df['SymptomGroup'].str.replace(', Pregnant, Under 20 Weeks', '', regex=True)\n",
    "df.loc[:,'SymptomGroup'] = df['SymptomGroup'].str.replace(', Pregnant', '', regex=True)\n",
    "\n",
    "df.loc[:,'AE_Outcome'] = (df.loc[:,'AE_Outcome']\n",
    "                          .transform(lambda x: x or None) ## replaces empty strings with None\n",
    "                          .fillna('No UEC Contact')\n",
    "                          )\n",
    "df.loc[:,'Indicator Type'] = (df.loc[:,'Indicator Type']\n",
    "                          .fillna('No UEC Contact'))\n"
   ]
  },
  {
   "cell_type": "code",
   "execution_count": null,
   "metadata": {},
   "outputs": [],
   "source": [
    "def generate_table1(data,group = None):\n",
    "\n",
    "    ## Number of rows\n",
    "    N_row = len(data)\n",
    "     \n",
    "    ## Separate numerical and categorical columns\n",
    "    numeric_cols = data.select_dtypes(include=['number']).columns\n",
    "    categorical_cols = data.select_dtypes(include=['object', 'category', 'bool']).columns\n",
    "    \n",
    "     ## filters to remove group, creates group item values\n",
    "    if group:\n",
    "        categorical_cols = [x for x in categorical_cols if x != group]\n",
    "        group_counts = df[group].value_counts()\n",
    "        items = (data.groupby(group)\n",
    "                    .size()\n",
    "                    .to_frame(name='count')\n",
    "                    .sort_values('count', ascending=False)\n",
    "                    .index)\n",
    "    \n",
    "    ## Initialize an empty list to collect rows for the summary DataFrame\n",
    "    summary_rows = []\n",
    "\n",
    "    ## Function to format median and quartiles\n",
    "    def median_iqr(col):\n",
    "        return f\"{col.median():.1f} ({col.quantile(0.25):.1f},{col.quantile(0.75):.1f})\"\n",
    "    \n",
    "    ## Function to format number and percent\n",
    "    def count_pc(data,col,level,group = None,group_counts = None,item = None):\n",
    "        if group:\n",
    "            count = data.loc[data[group] == item, col].value_counts().get(level,0)\n",
    "            percent = (count / group_counts.get(item,0)) * 100\n",
    "        else:\n",
    "            count = data[col].value_counts().get(level, 0)\n",
    "            percent = (count / N_row) * 100\n",
    "        return f'{round_up_to_5(count):,} ({percent:.1f}%)'          \n",
    "\n",
    "    # Numeric data summary (median IQR)\n",
    "    for col in numeric_cols:\n",
    "        row = {'Characteristic': f'{col} (median, IQR)'\n",
    "               ,'Level': ''}\n",
    "        if group:  \n",
    "            for item in items:               \n",
    "                item_value = median_iqr(data.loc[data[group] == item, col])\n",
    "                row[f'{item}, N={round_up_to_5(group_counts.get(item,0)):,}'] = item_value\n",
    "        row[f'Overall, N={round_up_to_5(N_row):,}'] = median_iqr(data[col])\n",
    "        summary_rows.append(row)\n",
    "\n",
    "    # Categorical data summary (each category level on a separate line)\n",
    "    for col in categorical_cols:       \n",
    "        levels = (data.groupby(col)\n",
    "                    .size()\n",
    "                    .to_frame(name='count')\n",
    "                    .sort_values('count', ascending=False)\n",
    "                    .index)\n",
    "\n",
    "        for level in levels:\n",
    "            row = { 'Characteristic': f'{col} (N, %)'\n",
    "                , 'Level': f'{level}'}\n",
    "            if group:  \n",
    "                for item in items:\n",
    "                    item_value = count_pc(data,col,level,group,group_counts,item)\n",
    "                    row[f'{item}, N={round_up_to_5(group_counts.get(item,0)):,}'] = item_value\n",
    "            row[f'Overall, N={round_up_to_5(N_row):,}'] = count_pc(data,col,level)\n",
    "            summary_rows.append(row)\n",
    "\n",
    "\n",
    "    # Convert the summary rows to a DataFrame\n",
    "    table1_df = pd.DataFrame(summary_rows).set_index('Characteristic')\n",
    "    return table1_df\n",
    "\n"
   ]
  },
  {
   "cell_type": "code",
   "execution_count": null,
   "metadata": {},
   "outputs": [],
   "source": [
    "df_table_one = df[['Disposition_Group',\n",
    "       'In_Out_Hours', 'Call_Taker_Triage',\n",
    "       'Clinical_Triage', 'Patient Age',\n",
    "       'AE_Outcome', 'Indicator Type','Hours_to_AE','UEC_Lookup']].copy()\n",
    "\n",
    "table_one = generate_table1(df_table_one,group='AE_Outcome')\n",
    "\n",
    "table_one"
   ]
  },
  {
   "cell_type": "code",
   "execution_count": null,
   "metadata": {},
   "outputs": [],
   "source": [
    "df_table_two = df[['Trauma_Type','Pregnant','SymptomGroup','AE_Outcome']].copy()\n",
    "\n",
    "table_two = generate_table1(df_table_two,group='AE_Outcome')\n",
    "\n",
    "table_two"
   ]
  }
 ],
 "metadata": {
  "kernelspec": {
   "display_name": "Python 3",
   "language": "python",
   "name": "python3"
  },
  "language_info": {
   "codemirror_mode": {
    "name": "ipython",
    "version": 3
   },
   "file_extension": ".py",
   "mimetype": "text/x-python",
   "name": "python",
   "nbconvert_exporter": "python",
   "pygments_lexer": "ipython3",
   "version": "3.11.4"
  }
 },
 "nbformat": 4,
 "nbformat_minor": 2
}
