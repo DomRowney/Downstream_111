{
 "cells": [
  {
   "cell_type": "markdown",
   "metadata": {},
   "source": [
    "## Packages"
   ]
  },
  {
   "cell_type": "code",
   "execution_count": null,
   "metadata": {},
   "outputs": [],
   "source": [
    "import pandas as pd\n",
    "import numpy as np\n",
    "import sqlalchemy \n",
    "from sqlalchemy import create_engine, text\n",
    "from db_secrets import SQL_107"
   ]
  },
  {
   "cell_type": "markdown",
   "metadata": {},
   "source": [
    "## Test Connection"
   ]
  },
  {
   "cell_type": "code",
   "execution_count": 1,
   "metadata": {},
   "outputs": [
    {
     "name": "stdout",
     "output_type": "stream",
     "text": [
      "hello world\n"
     ]
    }
   ],
   "source": [
    "print('hello world')"
   ]
  },
  {
   "cell_type": "code",
   "execution_count": null,
   "metadata": {},
   "outputs": [],
   "source": [
    "## text for query\n",
    "query_text = \"\"\"\n",
    "             SELECT * \n",
    "                 , CONVERT(DATETIME,AE_Arrival,21) AS [AE_Arrival_Datetime]\n",
    "                 , CAST(DATEDIFF(MINUTE\n",
    "                             ,[Call Connect Time]\n",
    "                             ,CONVERT(DATETIME,AE_Arrival,21) )\n",
    "                        AS float)/60.0 AS [Hours_to_AE]\n",
    "             FROM [ReportingGateway].[dbo].[uec_111_V2]\n",
    "             WHERE [CallDate] >= '2023-01-01'\n",
    "             \"\"\""
   ]
  },
  {
   "cell_type": "code",
   "execution_count": null,
   "metadata": {},
   "outputs": [],
   "source": [
    "## Create an engine + connection\n",
    "engine = create_engine(SQL_107())\n",
    "conn = engine.connect()\n",
    "\n",
    "## Return data\n",
    "df_raw = pd.read_sql(query_text,conn)"
   ]
  },
  {
   "cell_type": "code",
   "execution_count": null,
   "metadata": {},
   "outputs": [],
   "source": [
    "## Makes working copy\n",
    "df = df_raw.copy()"
   ]
  },
  {
   "cell_type": "code",
   "execution_count": null,
   "metadata": {},
   "outputs": [],
   "source": [
    "def Trauma_Detect(x):\n",
    "    if 'Blunt' in x:\n",
    "        return 'Blunt'\n",
    "    elif 'Penetrating' in x:\n",
    "        return 'Penetrating' \n",
    "    elif  'Trauma' in x:\n",
    "        return 'Other Trauma'\n",
    "    else:\n",
    "        return 'Not Trauma'"
   ]
  },
  {
   "cell_type": "code",
   "execution_count": null,
   "metadata": {},
   "outputs": [],
   "source": [
    "def Pregnancy_Detect(x):\n",
    "    if 'Pregnant, Over 20 Weeks' in x:\n",
    "        return 'Over 20 Weeks'\n",
    "    elif 'Pregnant, Under 20 Weeks' in x:\n",
    "        return 'Under 20 Weeks' \n",
    "    elif  'Pregnant' in x:\n",
    "        return 'Other Pregnancy'\n",
    "    else:\n",
    "        return 'Not Pregnant'"
   ]
  },
  {
   "cell_type": "code",
   "execution_count": null,
   "metadata": {},
   "outputs": [],
   "source": [
    "df.columns"
   ]
  },
  {
   "cell_type": "code",
   "execution_count": null,
   "metadata": {},
   "outputs": [],
   "source": [
    "df.loc[:,'Call_Taker_Triage'] = df['Call_Taker_Triages'].transform(lambda x: 'No' if x == 0 else 'Yes')\n",
    "df.loc[:,'Clinical_Triage'] = df['Clinical_Triages'].transform(lambda x: 'No' if x == 0 else 'Yes')\n",
    "\n",
    "df.loc[:,\"Trauma_Type\"] = df[\"SymptomGroup\"].transform(lambda x: Trauma_Detect(x))\n",
    "df.loc[:,\"Pregnant\"] = df[\"SymptomGroup\"].transform(lambda x: Pregnancy_Detect(x))\n",
    "\n",
    "df.loc[:,'SymptomGroup'] = df['SymptomGroup'].str.replace(', Blunt', '', regex=True)\n",
    "df.loc[:,'SymptomGroup'] = df['SymptomGroup'].str.replace(', Penetrating', '', regex=True)\n",
    "df.loc[:,'SymptomGroup'] = df['SymptomGroup'].str.replace(', Pregnant, Over 20 Weeks', '', regex=True)\n",
    "df.loc[:,'SymptomGroup'] = df['SymptomGroup'].str.replace(', Pregnant, Under 20 Weeks', '', regex=True)\n",
    "df.loc[:,'SymptomGroup'] = df['SymptomGroup'].str.replace(', Pregnant', '', regex=True)\n",
    "\n",
    "df.loc[:,'AE_Outcome'] = (df.loc[:,'AE_Outcome']\n",
    "                          .transform(lambda x: x or None) ## replaces empty strings with None\n",
    "                          .fillna('No A&E Contact')                        \n",
    "                          )\n",
    "df.loc[:,'Indicator Type'] = (df.loc[:,'Indicator Type']\n",
    "                          .fillna('No A&E Contact'))\n"
   ]
  },
  {
   "cell_type": "code",
   "execution_count": null,
   "metadata": {},
   "outputs": [],
   "source": [
    "df2 = df[['Disposition_Group',\n",
    "       'In_Out_Hours', 'Call_Taker_Triage',\n",
    "       'Clinical_Triage', 'Patient Age',\n",
    "       'AE_Outcome', 'Indicator Type','Hours_to_AE']].copy()"
   ]
  },
  {
   "cell_type": "code",
   "execution_count": null,
   "metadata": {},
   "outputs": [],
   "source": [
    "def generate_table1(data):\n",
    "\n",
    "    ## Number of rows\n",
    "    N_row = len(data)\n",
    "\n",
    "    # Separate numerical and categorical columns\n",
    "    numeric_cols = data.select_dtypes(include=['number']).columns\n",
    "    categorical_cols = data.select_dtypes(include=['object', 'category', 'bool']).columns\n",
    "\n",
    "    # Initialize an empty list to collect rows for the summary DataFrame\n",
    "    summary_rows = []\n",
    "\n",
    "    # Function to format median and quartiles\n",
    "    def median_iqr(col):\n",
    "        return f\"{col.median():.1f} ({col.quantile(0.25):.1f},{col.quantile(0.75):.1f})\"\n",
    "    \n",
    "    # Function to format number and percent\n",
    "    def count_pc(data,col,level):\n",
    "        count = data[col].value_counts().get(level, 0)\n",
    "        percent = (count / N_row) * 100\n",
    "        return f'{count:,} ({percent:.1f}%)'\n",
    "    \n",
    "    # Numeric data summary (median IQR)\n",
    "    for col in numeric_cols:\n",
    "        row = {'Characteristic': f'{col} (median, IQR)'\n",
    "               ,'Level': ''}\n",
    "        row[f'Overall, N={N_row:,}'] = median_iqr(data[col])\n",
    "        summary_rows.append(row)\n",
    "\n",
    "    # Categorical data summary (each category level on a separate line)\n",
    "    for col in categorical_cols:       \n",
    "        levels = (data.groupby(col)\n",
    "                    .size()\n",
    "                    .to_frame(name='count')\n",
    "                    .sort_values('count', ascending=False)\n",
    "                    .index)\n",
    "\n",
    "        for level in levels:\n",
    "            row = { 'Characteristic': col\n",
    "                , 'Level': f'{level}'}\n",
    "            row[f'Overall, N={N_row:,}'] = count_pc(data,col,level)\n",
    "            summary_rows.append(row)\n",
    "\n",
    "\n",
    "    # Convert the summary rows to a DataFrame\n",
    "    table1_df = pd.DataFrame(summary_rows).set_index('Characteristic')\n",
    "    return table1_df\n",
    "\n"
   ]
  },
  {
   "cell_type": "code",
   "execution_count": null,
   "metadata": {},
   "outputs": [],
   "source": [
    "table_one = generate_table1(df2)"
   ]
  },
  {
   "cell_type": "code",
   "execution_count": null,
   "metadata": {},
   "outputs": [],
   "source": [
    "table_one"
   ]
  }
 ],
 "metadata": {
  "kernelspec": {
   "display_name": "Python 3",
   "language": "python",
   "name": "python3"
  },
  "language_info": {
   "codemirror_mode": {
    "name": "ipython",
    "version": 3
   },
   "file_extension": ".py",
   "mimetype": "text/x-python",
   "name": "python",
   "nbconvert_exporter": "python",
   "pygments_lexer": "ipython3",
   "version": "3.11.4"
  }
 },
 "nbformat": 4,
 "nbformat_minor": 2
}
