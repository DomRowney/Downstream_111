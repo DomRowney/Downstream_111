{
 "cells": [
  {
   "cell_type": "markdown",
   "metadata": {},
   "source": [
    "## Packages"
   ]
  },
  {
   "cell_type": "code",
   "execution_count": null,
   "metadata": {},
   "outputs": [],
   "source": [
    "import pandas as pd\n",
    "import numpy as np\n",
    "from math import ceil\n",
    "import sqlalchemy \n",
    "from sqlalchemy import create_engine, text\n",
    "from db_secrets import SQL_107"
   ]
  },
  {
   "cell_type": "markdown",
   "metadata": {},
   "source": [
    "## Test Connection"
   ]
  },
  {
   "cell_type": "code",
   "execution_count": null,
   "metadata": {},
   "outputs": [],
   "source": [
    "## text for query\n",
    "query_text = \"\"\"\n",
    "SELECT  \n",
    "TOP 100\n",
    "\t\ta.[TotalCalls]\n",
    "\t,\ta.[Indicator]\n",
    "\t,\ta.[Call_ID]\n",
    "\t,\ta.[Pseudo_NHS]\n",
    "\t,\ta.[CallDate]\n",
    "\t,\ta.[Call Connect Time]\n",
    "\t,\tb.[Call Connect Time] AS [999_Call Connect Time]\n",
    "\t,\ta.[YearMonth]\n",
    "\t,\ta.[Weekday_Name]\n",
    "\t,\ta.[Week_Start]\n",
    "\t,\ta.[Financial Year]\n",
    "\t,\ta.[ICP]\n",
    "\t,\ta.[Sub ICB]\n",
    "\t,\ta.[PCN]\n",
    "\t,\ta.[GP Practice]\n",
    "\t,\ta.[Practice_Code]\n",
    "\t,\ta.[SymptomGroup]\n",
    "\t,\ta.[Disposition_Group]\n",
    "\t,\ta.[UEC_Lookup]\n",
    "\t,\ta.[In_Out_Hours]\n",
    "\t,\ta.[CAS Input]\n",
    "\t,\ta.[Contacts]\n",
    "\t,\ta.[Call_Taker_Triages]\n",
    "\t,\ta.[Clinical_Triages]\n",
    "\t,\ta.[Latest_COMPLETE_FM_To_DATE]\n",
    "\t,\ta.[Patient Age]\n",
    "\t,\ta.[Attend_ID]\n",
    "\t,\ta.[patient.nhs_number.value Pseudo]\n",
    "\t,\tISNULL(a.[AE_Arrival],b.[Call Connect Time]) AS [Next Contact]\n",
    "\t,\tCASE\n",
    "\t\t\tWHEN a.[AE_Outcome] IS NOT NULL THEN a.[AE_Outcome]\n",
    "\t\t\tWHEN b.[SeeTreatConvey] = 1 THEN 'See, Treat, Convey'\n",
    "\t\t\tWHEN b.[SeeTreatRefer] = 1 THEN 'See, Treat, Refer'\n",
    "\t\t\tWHEN b.[HearTreat] = 1 THEN 'Hear, Treat'\n",
    "\t\t\tWHEN b.[NoResponse] = 1 THEN '999 Call Only'\n",
    "\t\t\tELSE 'No UEC Contact'\n",
    "\t\t\tEND AS [AE_Outcome]\n",
    "\t,\tCASE WHEN a.[Indicator Type] IS NULL AND b.[Call Connect Time] IS NOT NULL THEN '999' ELSE a.[Indicator Type] END AS [Indicator Type]\n",
    "\t,\ta.[call_rank_ae_ID]\n",
    "      ,b.[NoResponse]\n",
    "      ,b.[HearTreat]\n",
    "      ,b.[SeeTreatRefer]\n",
    "      ,b.[SeeTreatConvey]\n",
    "    ,\tISNULL(\tCONVERT(DATETIME,a.[AE_Arrival],21) ,b.[Call Connect Time]) AS [AE_Arrival_Datetime]\n",
    "    ,\tCAST(DATEDIFF(MINUTE\n",
    "                ,a.[Call Connect Time]\n",
    "                ,ISNULL( CONVERT(DATETIME,a.[AE_Arrival],21) ,b.[Call Connect Time]) )\n",
    "           AS float)/60.0 AS [Hours_to_Next]\n",
    "FROM\n",
    "\t[ReportingGateway].[dbo].[uec_111_V2] AS a\n",
    "\tLEFT JOIN\n",
    "\t\t[ReportingGateway].[dbo].[uec_999_V2] AS b\n",
    "\t\tON\ta.[Pseudo_NHS] = b.[Pseudo_NHS]\n",
    "\t\tAND b.[CallDate] >= '2023-01-01'\n",
    "\t\tAND DATEDIFF(SECOND\n",
    "                ,a.[Call Connect Time]\n",
    "                ,b.[Call Connect Time])\n",
    "\t\t\tBETWEEN 0 AND (90000-1) --seconds in 24 hours\n",
    "WHERE\t\n",
    "\t1=1\n",
    "\tAND a.[Pseudo_NHS] != ''\n",
    "\tAND a.[Indicator Type] IS NULL\n",
    "\tAND\ta.[CallDate] >= '2023-01-01'\n",
    "\"\"\""
   ]
  },
  {
   "cell_type": "code",
   "execution_count": null,
   "metadata": {},
   "outputs": [],
   "source": [
    "## Function to round up to the nearest 5 for small number supression\n",
    "def round_up_to_5(x):\n",
    "        return ceil(x / 5) * 5"
   ]
  },
  {
   "cell_type": "code",
   "execution_count": null,
   "metadata": {},
   "outputs": [],
   "source": [
    "## Create an engine + connection\n",
    "engine = create_engine(SQL_107())\n",
    "conn = engine.connect()\n",
    "\n",
    "## Return data\n",
    "df_raw = pd.read_sql(query_text,conn)"
   ]
  },
  {
   "cell_type": "code",
   "execution_count": null,
   "metadata": {},
   "outputs": [],
   "source": [
    "## Makes working copy\n",
    "df = df_raw.copy()"
   ]
  },
  {
   "cell_type": "code",
   "execution_count": null,
   "metadata": {},
   "outputs": [],
   "source": [
    "def Trauma_Detect(x):\n",
    "    if 'Blunt' in x:\n",
    "        return 'Blunt'\n",
    "    elif 'Penetrating' in x:\n",
    "        return 'Penetrating' \n",
    "    elif  'Trauma' in x:\n",
    "        return 'Other Trauma'\n",
    "    else:\n",
    "        return 'Not Trauma'"
   ]
  },
  {
   "cell_type": "code",
   "execution_count": null,
   "metadata": {},
   "outputs": [],
   "source": [
    "def Pregnancy_Detect(x):\n",
    "    if 'Pregnant, Over 20 Weeks' in x:\n",
    "        return 'Over 20 Weeks'\n",
    "    elif 'Pregnant, Under 20 Weeks' in x:\n",
    "        return 'Under 20 Weeks' \n",
    "    elif  'Pregnant' in x:\n",
    "        return 'Other Pregnancy'\n",
    "    else:\n",
    "        return 'Not Pregnant'"
   ]
  },
  {
   "cell_type": "code",
   "execution_count": null,
   "metadata": {},
   "outputs": [],
   "source": [
    "df.columns"
   ]
  },
  {
   "cell_type": "code",
   "execution_count": null,
   "metadata": {},
   "outputs": [],
   "source": [
    "df.loc[:,'Call_Taker_Triage'] = df['Call_Taker_Triages'].transform(lambda x: 'No' if x == 0 else 'Yes')\n",
    "df.loc[:,'Clinical_Triage'] = df['Clinical_Triages'].transform(lambda x: 'No' if x == 0 else 'Yes')\n",
    "\n",
    "df.loc[:,\"Trauma_Type\"] = df[\"SymptomGroup\"].transform(lambda x: Trauma_Detect(x))\n",
    "df.loc[:,\"Pregnant\"] = df[\"SymptomGroup\"].transform(lambda x: Pregnancy_Detect(x))\n",
    "\n",
    "df.loc[:,'SymptomGroup'] = df['SymptomGroup'].str.replace(', Blunt', '', regex=True)\n",
    "df.loc[:,'SymptomGroup'] = df['SymptomGroup'].str.replace(', Penetrating', '', regex=True)\n",
    "df.loc[:,'SymptomGroup'] = df['SymptomGroup'].str.replace(', Pregnant, Over 20 Weeks', '', regex=True)\n",
    "df.loc[:,'SymptomGroup'] = df['SymptomGroup'].str.replace(', Pregnant, Under 20 Weeks', '', regex=True)\n",
    "df.loc[:,'SymptomGroup'] = df['SymptomGroup'].str.replace(', Pregnant', '', regex=True)\n",
    "\n",
    "df.loc[:,'AE_Outcome'] = (df.loc[:,'AE_Outcome']\n",
    "                          .transform(lambda x: x or None) ## replaces empty strings with None\n",
    "                          .fillna('No UEC Contact')\n",
    "                          )\n",
    "df.loc[:,'Indicator Type'] = (df.loc[:,'Indicator Type']\n",
    "                          .fillna('No UEC Contact'))\n"
   ]
  },
  {
   "cell_type": "code",
   "execution_count": null,
   "metadata": {},
   "outputs": [],
   "source": [
    "def generate_table1(data,group = None):\n",
    "\n",
    "    ## Number of rows\n",
    "    N_row = len(data)\n",
    "     \n",
    "    ## Separate numerical and categorical columns\n",
    "    numeric_cols = data.select_dtypes(include=['number']).columns\n",
    "    categorical_cols = data.select_dtypes(include=['object', 'category', 'bool']).columns\n",
    "    \n",
    "     ## filters to remove group, creates group item values\n",
    "    if group:\n",
    "        categorical_cols = [x for x in categorical_cols if x != group]\n",
    "        group_counts = df[group].value_counts()\n",
    "        items = (data.groupby(group)\n",
    "                    .size()\n",
    "                    .to_frame(name='count')\n",
    "                    .sort_values('count', ascending=False)\n",
    "                    .index)\n",
    "    \n",
    "    ## Initialize an empty list to collect rows for the summary DataFrame\n",
    "    summary_rows = []\n",
    "\n",
    "    ## Function to format median and quartiles\n",
    "    def median_iqr(col):\n",
    "        return f\"{col.median():.1f} ({col.quantile(0.25):.1f},{col.quantile(0.75):.1f})\"\n",
    "    \n",
    "    ## Function to format number and percent\n",
    "    def count_pc(data,col,level,group = None,group_counts = None,item = None):\n",
    "        if group:\n",
    "            count = data.loc[data[group] == item, col].value_counts().get(level,0)\n",
    "            percent = (count / group_counts.get(item,0)) * 100\n",
    "        else:\n",
    "            count = data[col].value_counts().get(level, 0)\n",
    "            percent = (count / N_row) * 100\n",
    "        return f'{round_up_to_5(count):,} ({percent:.1f}%)'          \n",
    "\n",
    "    # Numeric data summary (median IQR)\n",
    "    for col in numeric_cols:\n",
    "        row = {'Characteristic': f'{col} (median, IQR)'\n",
    "               ,'Level': ''}\n",
    "        if group:  \n",
    "            for item in items:               \n",
    "                item_value = median_iqr(data.loc[data[group] == item, col])\n",
    "                row[f'{item}, N={round_up_to_5(group_counts.get(item,0)):,}'] = item_value\n",
    "        row[f'Overall, N={round_up_to_5(N_row):,}'] = median_iqr(data[col])\n",
    "        summary_rows.append(row)\n",
    "\n",
    "    # Categorical data summary (each category level on a separate line)\n",
    "    for col in categorical_cols:       \n",
    "        levels = (data.groupby(col)\n",
    "                    .size()\n",
    "                    .to_frame(name='count')\n",
    "                    .sort_values('count', ascending=False)\n",
    "                    .index)\n",
    "\n",
    "        for level in levels:\n",
    "            row = { 'Characteristic': f'{col} (N, %)'\n",
    "                , 'Level': f'{level}'}\n",
    "            if group:  \n",
    "                for item in items:\n",
    "                    item_value = count_pc(data,col,level,group,group_counts,item)\n",
    "                    row[f'{item}, N={round_up_to_5(group_counts.get(item,0)):,}'] = item_value\n",
    "            row[f'Overall, N={round_up_to_5(N_row):,}'] = count_pc(data,col,level)\n",
    "            summary_rows.append(row)\n",
    "\n",
    "\n",
    "    # Convert the summary rows to a DataFrame\n",
    "    table1_df = pd.DataFrame(summary_rows).set_index('Characteristic')\n",
    "    return table1_df\n",
    "\n"
   ]
  },
  {
   "cell_type": "code",
   "execution_count": null,
   "metadata": {},
   "outputs": [],
   "source": [
    "df_table_one = df[['Disposition_Group',\n",
    "       'In_Out_Hours', 'Call_Taker_Triage',\n",
    "       'Clinical_Triage', 'Patient Age',\n",
    "       'AE_Outcome', 'Indicator Type','Hours_to_Next','UEC_Lookup']].copy()\n",
    "\n",
    "table_one = generate_table1(df_table_one,group='Indicator Type')\n",
    "\n",
    "table_one"
   ]
  },
  {
   "cell_type": "code",
   "execution_count": null,
   "metadata": {},
   "outputs": [],
   "source": [
    "df_table_two = df[['Trauma_Type','Pregnant','SymptomGroup','Indicator Type']].copy()\n",
    "\n",
    "table_two = generate_table1(df_table_two,group='Indicator Type')\n",
    "\n",
    "table_two"
   ]
  }
 ],
 "metadata": {
  "kernelspec": {
   "display_name": "Python 3",
   "language": "python",
   "name": "python3"
  },
  "language_info": {
   "codemirror_mode": {
    "name": "ipython",
    "version": 3
   },
   "file_extension": ".py",
   "mimetype": "text/x-python",
   "name": "python",
   "nbconvert_exporter": "python",
   "pygments_lexer": "ipython3",
   "version": "3.11.4"
  }
 },
 "nbformat": 4,
 "nbformat_minor": 2
}
