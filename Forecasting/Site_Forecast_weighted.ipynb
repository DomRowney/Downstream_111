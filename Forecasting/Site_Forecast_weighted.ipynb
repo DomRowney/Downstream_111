{
 "cells": [
  {
   "cell_type": "markdown",
   "metadata": {},
   "source": [
    "## Packages"
   ]
  },
  {
   "cell_type": "code",
   "execution_count": 1,
   "metadata": {},
   "outputs": [],
   "source": [
    "import pandas as pd\n",
    "import numpy as np\n",
    "from math import ceil\n",
    "from itertools import product\n",
    "## import plotly.express as px\n",
    "import matplotlib.pyplot as plt\n",
    "import matplotlib.colors as mcolors\n",
    "\n",
    "import sqlalchemy \n",
    "from sqlalchemy import create_engine, text\n",
    "\n",
    "import sys\n",
    "import os\n",
    "\n",
    "## Add the path of the functions folder\n",
    "current_dir = os.getcwd()  ## Gets the current working directory\n",
    "sub_dir = os.path.abspath(os.path.join(current_dir, '..'\n",
    "                                       , 'Functions'))\n",
    "sys.path.append(sub_dir)\n",
    "\n",
    "# Now you can import functions\n",
    "from db_secrets import SQL_107\n",
    "\n",
    "from visualisations import plot_prediction_error, plot_prediction_density_subplots\n",
    "\n",
    "from helpers import aggregate_sites, keras_calculate_accuracy, keras_calculate_baseline_accuracy"
   ]
  },
  {
   "cell_type": "code",
   "execution_count": 2,
   "metadata": {},
   "outputs": [],
   "source": [
    "# TensorFlow sequential model\n",
    "from tensorflow import keras\n",
    "from tensorflow.keras import backend as K\n",
    "from tensorflow.keras.models import Sequential\n",
    "from tensorflow.keras.layers import BatchNormalization\n",
    "from tensorflow.keras.layers import Dense\n",
    "from tensorflow.keras.layers import Dropout\n",
    "from tensorflow.keras.optimizers import Adam\n",
    "\n",
    "from sklearn.model_selection import train_test_split\n",
    "from sklearn.preprocessing import MinMaxScaler\n"
   ]
  },
  {
   "cell_type": "code",
   "execution_count": 3,
   "metadata": {},
   "outputs": [],
   "source": [
    "# Turn warnings off to keep notebook tidy\n",
    "import warnings\n",
    "warnings.filterwarnings(\"ignore\")"
   ]
  },
  {
   "cell_type": "markdown",
   "metadata": {},
   "source": [
    "## Connection"
   ]
  },
  {
   "cell_type": "code",
   "execution_count": 4,
   "metadata": {},
   "outputs": [],
   "source": [
    "## text for query\n",
    "with open(\"../Exploratory_Analysis/111_sql.sql\", \"r\") as file:\n",
    "    query_text = file.read()\n",
    "\n",
    "query_text = query_text.replace('REPLACE START DATE','2022-01-01')"
   ]
  },
  {
   "cell_type": "code",
   "execution_count": 5,
   "metadata": {},
   "outputs": [],
   "source": [
    "## Create an engine + connection\n",
    "engine = create_engine(SQL_107())\n",
    "conn = engine.connect()\n",
    "\n",
    "## Return data\n",
    "df_raw = pd.read_sql(query_text,conn)"
   ]
  },
  {
   "cell_type": "markdown",
   "metadata": {},
   "source": [
    "## Wrangle"
   ]
  },
  {
   "cell_type": "code",
   "execution_count": 6,
   "metadata": {},
   "outputs": [],
   "source": [
    "## Makes working copy\n",
    "df = df_raw.copy()\n",
    "\n",
    "#df = df.sample(n=100000, random_state=42)"
   ]
  },
  {
   "cell_type": "code",
   "execution_count": 7,
   "metadata": {},
   "outputs": [
    {
     "data": {
      "text/plain": [
       "Index(['Start_Location', 'Call ID', 'Pseudo NHS Number', 'CallDate',\n",
       "       'Call Connect Time', 'Weekday_Name', 'Week_Start', 'Financial Year',\n",
       "       'Bank Holiday', 'In_Out_Hours', 'Sub ICB Code', 'Sub ICB Name',\n",
       "       'GP Practice', 'GP Practice Code', 'GP Deprivation',\n",
       "       'GP Survey Q21 Wait for Appt', 'Symptom_Group',\n",
       "       'Final Disposition Code', 'Disposition Group', 'Disposition',\n",
       "       'Call_Taker_Triages', 'Clinical_Triages', 'Patient Age', 'Patient Sex',\n",
       "       'Outcome ID', 'Outcome Datetime', 'Outcome Type', 'Outcome',\n",
       "       'Outcome Location Code', 'Outcome Location Name', 'Hours to Outcome'],\n",
       "      dtype='object')"
      ]
     },
     "execution_count": 7,
     "metadata": {},
     "output_type": "execute_result"
    }
   ],
   "source": [
    "## List columns\n",
    "df.columns"
   ]
  },
  {
   "cell_type": "code",
   "execution_count": 8,
   "metadata": {},
   "outputs": [],
   "source": [
    "df = df[['Call Connect Time'\n",
    "         ,'Outcome Location Name'\n",
    "         ,'Bank Holiday'\n",
    "         , 'In_Out_Hours'\n",
    "         , 'Sub ICB Name'\n",
    "         ,'Outcome Type']].copy()"
   ]
  },
  {
   "cell_type": "code",
   "execution_count": 9,
   "metadata": {},
   "outputs": [],
   "source": [
    "## Round time to nearest hour\n",
    "df['Call Connect Time'] = df['Call Connect Time'].dt.round(freq='h')\n"
   ]
  },
  {
   "cell_type": "code",
   "execution_count": 10,
   "metadata": {},
   "outputs": [],
   "source": [
    "## Replaces low frequency sites with 'OTHER SITE'\n",
    "df['Outcome Location Name'] = (df['Outcome Location Name']\n",
    "                               .apply(lambda x: aggregate_sites(x)))"
   ]
  },
  {
   "cell_type": "markdown",
   "metadata": {},
   "source": [
    "#### binary outcome"
   ]
  },
  {
   "cell_type": "code",
   "execution_count": 11,
   "metadata": {},
   "outputs": [],
   "source": [
    "df['Calls'] = 1"
   ]
  },
  {
   "cell_type": "code",
   "execution_count": 12,
   "metadata": {},
   "outputs": [],
   "source": [
    "df['Outcome'] = df['Outcome Type'].transform(lambda x: 0 if x == 'No UEC Contact' else 1)\n",
    "df = df.drop(['Outcome Type'],axis=1) "
   ]
  },
  {
   "cell_type": "code",
   "execution_count": null,
   "metadata": {},
   "outputs": [
    {
     "data": {
      "text/html": [
       "<div>\n",
       "<style scoped>\n",
       "    .dataframe tbody tr th:only-of-type {\n",
       "        vertical-align: middle;\n",
       "    }\n",
       "\n",
       "    .dataframe tbody tr th {\n",
       "        vertical-align: top;\n",
       "    }\n",
       "\n",
       "    .dataframe thead th {\n",
       "        text-align: right;\n",
       "    }\n",
       "</style>\n",
       "<table border=\"1\" class=\"dataframe\">\n",
       "  <thead>\n",
       "    <tr style=\"text-align: right;\">\n",
       "      <th></th>\n",
       "      <th>Call Connect Time</th>\n",
       "      <th>Outcome Location Name</th>\n",
       "      <th>Bank Holiday</th>\n",
       "      <th>In_Out_Hours</th>\n",
       "      <th>Sub ICB Name</th>\n",
       "      <th>Calls</th>\n",
       "      <th>Outcome</th>\n",
       "    </tr>\n",
       "  </thead>\n",
       "  <tbody>\n",
       "    <tr>\n",
       "      <th>0</th>\n",
       "      <td>2022-01-15 00:00:00</td>\n",
       "      <td>No UEC Contact</td>\n",
       "      <td>No</td>\n",
       "      <td>Out of Hours</td>\n",
       "      <td>Tees Valley</td>\n",
       "      <td>1</td>\n",
       "      <td>0</td>\n",
       "    </tr>\n",
       "    <tr>\n",
       "      <th>1</th>\n",
       "      <td>2022-01-15 01:00:00</td>\n",
       "      <td>No UEC Contact</td>\n",
       "      <td>No</td>\n",
       "      <td>Out of Hours</td>\n",
       "      <td>Sunderland</td>\n",
       "      <td>1</td>\n",
       "      <td>0</td>\n",
       "    </tr>\n",
       "    <tr>\n",
       "      <th>2</th>\n",
       "      <td>2022-01-15 01:00:00</td>\n",
       "      <td>UNIVERSITY HOSPITAL OF NORTH TEES</td>\n",
       "      <td>No</td>\n",
       "      <td>Out of Hours</td>\n",
       "      <td>Tees Valley</td>\n",
       "      <td>1</td>\n",
       "      <td>1</td>\n",
       "    </tr>\n",
       "    <tr>\n",
       "      <th>3</th>\n",
       "      <td>2022-01-15 01:00:00</td>\n",
       "      <td>No UEC Contact</td>\n",
       "      <td>No</td>\n",
       "      <td>Out of Hours</td>\n",
       "      <td>County Durham</td>\n",
       "      <td>1</td>\n",
       "      <td>0</td>\n",
       "    </tr>\n",
       "    <tr>\n",
       "      <th>4</th>\n",
       "      <td>2022-01-15 01:00:00</td>\n",
       "      <td>No UEC Contact</td>\n",
       "      <td>No</td>\n",
       "      <td>Out of Hours</td>\n",
       "      <td>County Durham</td>\n",
       "      <td>1</td>\n",
       "      <td>0</td>\n",
       "    </tr>\n",
       "  </tbody>\n",
       "</table>\n",
       "</div>"
      ],
      "text/plain": [
       "    Call Connect Time              Outcome Location Name Bank Holiday  \\\n",
       "0 2022-01-15 00:00:00                     No UEC Contact           No   \n",
       "1 2022-01-15 01:00:00                     No UEC Contact           No   \n",
       "2 2022-01-15 01:00:00  UNIVERSITY HOSPITAL OF NORTH TEES           No   \n",
       "3 2022-01-15 01:00:00                     No UEC Contact           No   \n",
       "4 2022-01-15 01:00:00                     No UEC Contact           No   \n",
       "\n",
       "   In_Out_Hours   Sub ICB Name  Calls  Outcome  \n",
       "0  Out of Hours    Tees Valley      1        0  \n",
       "1  Out of Hours     Sunderland      1        0  \n",
       "2  Out of Hours    Tees Valley      1        1  \n",
       "3  Out of Hours  County Durham      1        0  \n",
       "4  Out of Hours  County Durham      1        0  "
      ]
     },
     "execution_count": 54,
     "metadata": {},
     "output_type": "execute_result"
    }
   ],
   "source": [
    "df.head()"
   ]
  },
  {
   "cell_type": "markdown",
   "metadata": {},
   "source": [
    "get the rows to use for the weightings from a join based on rows in X test to filter df weight before pivot applied"
   ]
  },
  {
   "cell_type": "markdown",
   "metadata": {},
   "source": [
    "get a copy of the data at this point to use later for weightings"
   ]
  },
  {
   "cell_type": "code",
   "execution_count": null,
   "metadata": {},
   "outputs": [],
   "source": [
    "df_weight = df.copy()\n",
    "\n",
    "df_weight['hour'] = df_weight['Call Connect Time'].dt.hour\n",
    "df_weight['month'] = df_weight['Call Connect Time'].dt.month\n",
    "df_weight['weekday'] = df_weight['Call Connect Time'].dt.weekday\n",
    "\n"
   ]
  },
  {
   "cell_type": "code",
   "execution_count": 64,
   "metadata": {},
   "outputs": [
    {
     "data": {
      "text/html": [
       "<div>\n",
       "<style scoped>\n",
       "    .dataframe tbody tr th:only-of-type {\n",
       "        vertical-align: middle;\n",
       "    }\n",
       "\n",
       "    .dataframe tbody tr th {\n",
       "        vertical-align: top;\n",
       "    }\n",
       "\n",
       "    .dataframe thead th {\n",
       "        text-align: right;\n",
       "    }\n",
       "</style>\n",
       "<table border=\"1\" class=\"dataframe\">\n",
       "  <thead>\n",
       "    <tr style=\"text-align: right;\">\n",
       "      <th></th>\n",
       "      <th></th>\n",
       "      <th></th>\n",
       "      <th>Outcome Location Name</th>\n",
       "      <th>DARLINGTON MEMORIAL HOSPITAL</th>\n",
       "      <th>NORTHUMBRIA SPECIALIST EMERGENCY CARE HOSPITAL</th>\n",
       "      <th>No UEC Contact</th>\n",
       "      <th>OTHER SITE</th>\n",
       "      <th>QUEEN ELIZABETH HOSPITAL</th>\n",
       "      <th>REDCAR PRIMARY CARE HOSPITAL</th>\n",
       "      <th>SOUTH TYNESIDE DISTRICT HOSPITAL</th>\n",
       "      <th>SUNDERLAND ROYAL HOSPITAL</th>\n",
       "      <th>THE JAMES COOK UNIVERSITY HOSPITAL</th>\n",
       "      <th>THE ROYAL VICTORIA INFIRMARY</th>\n",
       "      <th>UNIVERSITY HOSPITAL OF HARTLEPOOL</th>\n",
       "      <th>UNIVERSITY HOSPITAL OF NORTH DURHAM</th>\n",
       "      <th>UNIVERSITY HOSPITAL OF NORTH TEES</th>\n",
       "      <th>WANSBECK HOSPITAL</th>\n",
       "    </tr>\n",
       "    <tr>\n",
       "      <th>hour</th>\n",
       "      <th>month</th>\n",
       "      <th>weekday</th>\n",
       "      <th>Sub ICB Name</th>\n",
       "      <th></th>\n",
       "      <th></th>\n",
       "      <th></th>\n",
       "      <th></th>\n",
       "      <th></th>\n",
       "      <th></th>\n",
       "      <th></th>\n",
       "      <th></th>\n",
       "      <th></th>\n",
       "      <th></th>\n",
       "      <th></th>\n",
       "      <th></th>\n",
       "      <th></th>\n",
       "      <th></th>\n",
       "    </tr>\n",
       "  </thead>\n",
       "  <tbody>\n",
       "    <tr>\n",
       "      <th rowspan=\"5\" valign=\"top\">0</th>\n",
       "      <th rowspan=\"5\" valign=\"top\">1</th>\n",
       "      <th rowspan=\"5\" valign=\"top\">0</th>\n",
       "      <th>County Durham</th>\n",
       "      <td>14</td>\n",
       "      <td>0</td>\n",
       "      <td>102</td>\n",
       "      <td>7</td>\n",
       "      <td>0</td>\n",
       "      <td>0</td>\n",
       "      <td>0</td>\n",
       "      <td>4</td>\n",
       "      <td>0</td>\n",
       "      <td>0</td>\n",
       "      <td>1</td>\n",
       "      <td>35</td>\n",
       "      <td>5</td>\n",
       "      <td>0</td>\n",
       "    </tr>\n",
       "    <tr>\n",
       "      <th>Newcastle Gateshead</th>\n",
       "      <td>0</td>\n",
       "      <td>1</td>\n",
       "      <td>86</td>\n",
       "      <td>4</td>\n",
       "      <td>28</td>\n",
       "      <td>0</td>\n",
       "      <td>0</td>\n",
       "      <td>0</td>\n",
       "      <td>1</td>\n",
       "      <td>36</td>\n",
       "      <td>0</td>\n",
       "      <td>0</td>\n",
       "      <td>0</td>\n",
       "      <td>0</td>\n",
       "    </tr>\n",
       "    <tr>\n",
       "      <th>North Tyneside</th>\n",
       "      <td>0</td>\n",
       "      <td>7</td>\n",
       "      <td>38</td>\n",
       "      <td>0</td>\n",
       "      <td>0</td>\n",
       "      <td>0</td>\n",
       "      <td>1</td>\n",
       "      <td>0</td>\n",
       "      <td>0</td>\n",
       "      <td>3</td>\n",
       "      <td>0</td>\n",
       "      <td>0</td>\n",
       "      <td>0</td>\n",
       "      <td>0</td>\n",
       "    </tr>\n",
       "    <tr>\n",
       "      <th>Northumberland</th>\n",
       "      <td>0</td>\n",
       "      <td>16</td>\n",
       "      <td>38</td>\n",
       "      <td>3</td>\n",
       "      <td>0</td>\n",
       "      <td>0</td>\n",
       "      <td>0</td>\n",
       "      <td>0</td>\n",
       "      <td>0</td>\n",
       "      <td>6</td>\n",
       "      <td>0</td>\n",
       "      <td>0</td>\n",
       "      <td>0</td>\n",
       "      <td>1</td>\n",
       "    </tr>\n",
       "    <tr>\n",
       "      <th>South Tyneside</th>\n",
       "      <td>0</td>\n",
       "      <td>0</td>\n",
       "      <td>12</td>\n",
       "      <td>0</td>\n",
       "      <td>1</td>\n",
       "      <td>0</td>\n",
       "      <td>15</td>\n",
       "      <td>0</td>\n",
       "      <td>0</td>\n",
       "      <td>0</td>\n",
       "      <td>0</td>\n",
       "      <td>0</td>\n",
       "      <td>0</td>\n",
       "      <td>0</td>\n",
       "    </tr>\n",
       "  </tbody>\n",
       "</table>\n",
       "</div>"
      ],
      "text/plain": [
       "Outcome Location Name                   DARLINGTON MEMORIAL HOSPITAL  \\\n",
       "hour month weekday Sub ICB Name                                        \n",
       "0    1     0       County Durham                                  14   \n",
       "                   Newcastle Gateshead                             0   \n",
       "                   North Tyneside                                  0   \n",
       "                   Northumberland                                  0   \n",
       "                   South Tyneside                                  0   \n",
       "\n",
       "Outcome Location Name                   NORTHUMBRIA SPECIALIST EMERGENCY CARE HOSPITAL  \\\n",
       "hour month weekday Sub ICB Name                                                          \n",
       "0    1     0       County Durham                                                     0   \n",
       "                   Newcastle Gateshead                                               1   \n",
       "                   North Tyneside                                                    7   \n",
       "                   Northumberland                                                   16   \n",
       "                   South Tyneside                                                    0   \n",
       "\n",
       "Outcome Location Name                   No UEC Contact  OTHER SITE  \\\n",
       "hour month weekday Sub ICB Name                                      \n",
       "0    1     0       County Durham                   102           7   \n",
       "                   Newcastle Gateshead              86           4   \n",
       "                   North Tyneside                   38           0   \n",
       "                   Northumberland                   38           3   \n",
       "                   South Tyneside                   12           0   \n",
       "\n",
       "Outcome Location Name                   QUEEN ELIZABETH HOSPITAL  \\\n",
       "hour month weekday Sub ICB Name                                    \n",
       "0    1     0       County Durham                               0   \n",
       "                   Newcastle Gateshead                        28   \n",
       "                   North Tyneside                              0   \n",
       "                   Northumberland                              0   \n",
       "                   South Tyneside                              1   \n",
       "\n",
       "Outcome Location Name                   REDCAR PRIMARY CARE HOSPITAL  \\\n",
       "hour month weekday Sub ICB Name                                        \n",
       "0    1     0       County Durham                                   0   \n",
       "                   Newcastle Gateshead                             0   \n",
       "                   North Tyneside                                  0   \n",
       "                   Northumberland                                  0   \n",
       "                   South Tyneside                                  0   \n",
       "\n",
       "Outcome Location Name                   SOUTH TYNESIDE DISTRICT HOSPITAL  \\\n",
       "hour month weekday Sub ICB Name                                            \n",
       "0    1     0       County Durham                                       0   \n",
       "                   Newcastle Gateshead                                 0   \n",
       "                   North Tyneside                                      1   \n",
       "                   Northumberland                                      0   \n",
       "                   South Tyneside                                     15   \n",
       "\n",
       "Outcome Location Name                   SUNDERLAND ROYAL HOSPITAL  \\\n",
       "hour month weekday Sub ICB Name                                     \n",
       "0    1     0       County Durham                                4   \n",
       "                   Newcastle Gateshead                          0   \n",
       "                   North Tyneside                               0   \n",
       "                   Northumberland                               0   \n",
       "                   South Tyneside                               0   \n",
       "\n",
       "Outcome Location Name                   THE JAMES COOK UNIVERSITY HOSPITAL  \\\n",
       "hour month weekday Sub ICB Name                                              \n",
       "0    1     0       County Durham                                         0   \n",
       "                   Newcastle Gateshead                                   1   \n",
       "                   North Tyneside                                        0   \n",
       "                   Northumberland                                        0   \n",
       "                   South Tyneside                                        0   \n",
       "\n",
       "Outcome Location Name                   THE ROYAL VICTORIA INFIRMARY  \\\n",
       "hour month weekday Sub ICB Name                                        \n",
       "0    1     0       County Durham                                   0   \n",
       "                   Newcastle Gateshead                            36   \n",
       "                   North Tyneside                                  3   \n",
       "                   Northumberland                                  6   \n",
       "                   South Tyneside                                  0   \n",
       "\n",
       "Outcome Location Name                   UNIVERSITY HOSPITAL OF HARTLEPOOL  \\\n",
       "hour month weekday Sub ICB Name                                             \n",
       "0    1     0       County Durham                                        1   \n",
       "                   Newcastle Gateshead                                  0   \n",
       "                   North Tyneside                                       0   \n",
       "                   Northumberland                                       0   \n",
       "                   South Tyneside                                       0   \n",
       "\n",
       "Outcome Location Name                   UNIVERSITY HOSPITAL OF NORTH DURHAM  \\\n",
       "hour month weekday Sub ICB Name                                               \n",
       "0    1     0       County Durham                                         35   \n",
       "                   Newcastle Gateshead                                    0   \n",
       "                   North Tyneside                                         0   \n",
       "                   Northumberland                                         0   \n",
       "                   South Tyneside                                         0   \n",
       "\n",
       "Outcome Location Name                   UNIVERSITY HOSPITAL OF NORTH TEES  \\\n",
       "hour month weekday Sub ICB Name                                             \n",
       "0    1     0       County Durham                                        5   \n",
       "                   Newcastle Gateshead                                  0   \n",
       "                   North Tyneside                                       0   \n",
       "                   Northumberland                                       0   \n",
       "                   South Tyneside                                       0   \n",
       "\n",
       "Outcome Location Name                   WANSBECK HOSPITAL  \n",
       "hour month weekday Sub ICB Name                            \n",
       "0    1     0       County Durham                        0  \n",
       "                   Newcastle Gateshead                  0  \n",
       "                   North Tyneside                       0  \n",
       "                   Northumberland                       1  \n",
       "                   South Tyneside                       0  "
      ]
     },
     "execution_count": 64,
     "metadata": {},
     "output_type": "execute_result"
    }
   ],
   "source": [
    "df_weight.head()"
   ]
  },
  {
   "cell_type": "markdown",
   "metadata": {},
   "source": [
    "# Reassemble data"
   ]
  },
  {
   "cell_type": "markdown",
   "metadata": {},
   "source": [
    "#### ICB values"
   ]
  },
  {
   "cell_type": "code",
   "execution_count": 58,
   "metadata": {},
   "outputs": [],
   "source": [
    "## Aggregates to one column per place per timestamp\n",
    "df_call = pd.pivot_table(df\n",
    "                        ,values = 'Calls'\n",
    "                        ,index = 'Call Connect Time'\n",
    "                        ,columns ='Sub ICB Name'\n",
    "                        ,aggfunc ='sum'\n",
    "                        ,fill_value = 0)"
   ]
  },
  {
   "cell_type": "code",
   "execution_count": 59,
   "metadata": {},
   "outputs": [
    {
     "data": {
      "text/html": [
       "<div>\n",
       "<style scoped>\n",
       "    .dataframe tbody tr th:only-of-type {\n",
       "        vertical-align: middle;\n",
       "    }\n",
       "\n",
       "    .dataframe tbody tr th {\n",
       "        vertical-align: top;\n",
       "    }\n",
       "\n",
       "    .dataframe thead th {\n",
       "        text-align: right;\n",
       "    }\n",
       "</style>\n",
       "<table border=\"1\" class=\"dataframe\">\n",
       "  <thead>\n",
       "    <tr style=\"text-align: right;\">\n",
       "      <th>Sub ICB Name</th>\n",
       "      <th>County Durham</th>\n",
       "      <th>Newcastle Gateshead</th>\n",
       "      <th>North Tyneside</th>\n",
       "      <th>Northumberland</th>\n",
       "      <th>South Tyneside</th>\n",
       "      <th>Sunderland</th>\n",
       "      <th>Tees Valley</th>\n",
       "    </tr>\n",
       "    <tr>\n",
       "      <th>Call Connect Time</th>\n",
       "      <th></th>\n",
       "      <th></th>\n",
       "      <th></th>\n",
       "      <th></th>\n",
       "      <th></th>\n",
       "      <th></th>\n",
       "      <th></th>\n",
       "    </tr>\n",
       "  </thead>\n",
       "  <tbody>\n",
       "    <tr>\n",
       "      <th>2022-01-01 00:00:00</th>\n",
       "      <td>3</td>\n",
       "      <td>4</td>\n",
       "      <td>1</td>\n",
       "      <td>4</td>\n",
       "      <td>0</td>\n",
       "      <td>1</td>\n",
       "      <td>6</td>\n",
       "    </tr>\n",
       "    <tr>\n",
       "      <th>2022-01-01 01:00:00</th>\n",
       "      <td>8</td>\n",
       "      <td>5</td>\n",
       "      <td>0</td>\n",
       "      <td>5</td>\n",
       "      <td>1</td>\n",
       "      <td>3</td>\n",
       "      <td>2</td>\n",
       "    </tr>\n",
       "    <tr>\n",
       "      <th>2022-01-01 02:00:00</th>\n",
       "      <td>4</td>\n",
       "      <td>3</td>\n",
       "      <td>5</td>\n",
       "      <td>5</td>\n",
       "      <td>1</td>\n",
       "      <td>2</td>\n",
       "      <td>2</td>\n",
       "    </tr>\n",
       "    <tr>\n",
       "      <th>2022-01-01 03:00:00</th>\n",
       "      <td>3</td>\n",
       "      <td>4</td>\n",
       "      <td>3</td>\n",
       "      <td>4</td>\n",
       "      <td>1</td>\n",
       "      <td>0</td>\n",
       "      <td>7</td>\n",
       "    </tr>\n",
       "    <tr>\n",
       "      <th>2022-01-01 04:00:00</th>\n",
       "      <td>2</td>\n",
       "      <td>2</td>\n",
       "      <td>1</td>\n",
       "      <td>3</td>\n",
       "      <td>0</td>\n",
       "      <td>0</td>\n",
       "      <td>5</td>\n",
       "    </tr>\n",
       "  </tbody>\n",
       "</table>\n",
       "</div>"
      ],
      "text/plain": [
       "Sub ICB Name         County Durham  Newcastle Gateshead  North Tyneside  \\\n",
       "Call Connect Time                                                         \n",
       "2022-01-01 00:00:00              3                    4               1   \n",
       "2022-01-01 01:00:00              8                    5               0   \n",
       "2022-01-01 02:00:00              4                    3               5   \n",
       "2022-01-01 03:00:00              3                    4               3   \n",
       "2022-01-01 04:00:00              2                    2               1   \n",
       "\n",
       "Sub ICB Name         Northumberland  South Tyneside  Sunderland  Tees Valley  \n",
       "Call Connect Time                                                             \n",
       "2022-01-01 00:00:00               4               0           1            6  \n",
       "2022-01-01 01:00:00               5               1           3            2  \n",
       "2022-01-01 02:00:00               5               1           2            2  \n",
       "2022-01-01 03:00:00               4               1           0            7  \n",
       "2022-01-01 04:00:00               3               0           0            5  "
      ]
     },
     "execution_count": 59,
     "metadata": {},
     "output_type": "execute_result"
    }
   ],
   "source": [
    "df_call.head()"
   ]
  },
  {
   "cell_type": "markdown",
   "metadata": {},
   "source": [
    "#### Site values"
   ]
  },
  {
   "cell_type": "code",
   "execution_count": 16,
   "metadata": {},
   "outputs": [],
   "source": [
    "df_site = df[df['Outcome']==1]\n",
    "\n",
    "df_site = df_site[[ 'Call Connect Time'\n",
    "         , 'Outcome Location Name'\n",
    "         , 'Outcome'\n",
    "         ,]].groupby([ pd.Grouper(key='Call Connect Time', freq='1h')\n",
    "         , 'Outcome Location Name']).agg('sum').reset_index()"
   ]
  },
  {
   "cell_type": "code",
   "execution_count": 17,
   "metadata": {},
   "outputs": [],
   "source": [
    "## Removes OTHER SITE\n",
    "df_site = df_site[~(df_site['Outcome Location Name']=='OTHER SITE')]"
   ]
  },
  {
   "cell_type": "code",
   "execution_count": 18,
   "metadata": {},
   "outputs": [
    {
     "data": {
      "text/html": [
       "<div>\n",
       "<style scoped>\n",
       "    .dataframe tbody tr th:only-of-type {\n",
       "        vertical-align: middle;\n",
       "    }\n",
       "\n",
       "    .dataframe tbody tr th {\n",
       "        vertical-align: top;\n",
       "    }\n",
       "\n",
       "    .dataframe thead th {\n",
       "        text-align: right;\n",
       "    }\n",
       "</style>\n",
       "<table border=\"1\" class=\"dataframe\">\n",
       "  <thead>\n",
       "    <tr style=\"text-align: right;\">\n",
       "      <th></th>\n",
       "      <th>Call Connect Time</th>\n",
       "      <th>Outcome Location Name</th>\n",
       "      <th>Outcome</th>\n",
       "    </tr>\n",
       "  </thead>\n",
       "  <tbody>\n",
       "    <tr>\n",
       "      <th>0</th>\n",
       "      <td>2022-01-01</td>\n",
       "      <td>NORTHUMBRIA SPECIALIST EMERGENCY CARE HOSPITAL</td>\n",
       "      <td>1</td>\n",
       "    </tr>\n",
       "    <tr>\n",
       "      <th>1</th>\n",
       "      <td>2022-01-01</td>\n",
       "      <td>QUEEN ELIZABETH HOSPITAL</td>\n",
       "      <td>2</td>\n",
       "    </tr>\n",
       "    <tr>\n",
       "      <th>2</th>\n",
       "      <td>2022-01-01</td>\n",
       "      <td>SUNDERLAND ROYAL HOSPITAL</td>\n",
       "      <td>1</td>\n",
       "    </tr>\n",
       "    <tr>\n",
       "      <th>3</th>\n",
       "      <td>2022-01-01</td>\n",
       "      <td>UNIVERSITY HOSPITAL OF NORTH DURHAM</td>\n",
       "      <td>1</td>\n",
       "    </tr>\n",
       "    <tr>\n",
       "      <th>4</th>\n",
       "      <td>2022-01-01</td>\n",
       "      <td>UNIVERSITY HOSPITAL OF NORTH TEES</td>\n",
       "      <td>1</td>\n",
       "    </tr>\n",
       "  </tbody>\n",
       "</table>\n",
       "</div>"
      ],
      "text/plain": [
       "  Call Connect Time                           Outcome Location Name  Outcome\n",
       "0        2022-01-01  NORTHUMBRIA SPECIALIST EMERGENCY CARE HOSPITAL        1\n",
       "1        2022-01-01                        QUEEN ELIZABETH HOSPITAL        2\n",
       "2        2022-01-01                       SUNDERLAND ROYAL HOSPITAL        1\n",
       "3        2022-01-01             UNIVERSITY HOSPITAL OF NORTH DURHAM        1\n",
       "4        2022-01-01               UNIVERSITY HOSPITAL OF NORTH TEES        1"
      ]
     },
     "execution_count": 18,
     "metadata": {},
     "output_type": "execute_result"
    }
   ],
   "source": [
    "df_site.head()"
   ]
  },
  {
   "cell_type": "markdown",
   "metadata": {},
   "source": [
    "### Extra time features"
   ]
  },
  {
   "cell_type": "code",
   "execution_count": 19,
   "metadata": {},
   "outputs": [],
   "source": [
    "df_times = df[['Call Connect Time'\n",
    "            ,'Bank Holiday'\n",
    "            , 'In_Out_Hours']].drop_duplicates()"
   ]
  },
  {
   "cell_type": "code",
   "execution_count": 20,
   "metadata": {},
   "outputs": [
    {
     "data": {
      "text/html": [
       "<div>\n",
       "<style scoped>\n",
       "    .dataframe tbody tr th:only-of-type {\n",
       "        vertical-align: middle;\n",
       "    }\n",
       "\n",
       "    .dataframe tbody tr th {\n",
       "        vertical-align: top;\n",
       "    }\n",
       "\n",
       "    .dataframe thead th {\n",
       "        text-align: right;\n",
       "    }\n",
       "</style>\n",
       "<table border=\"1\" class=\"dataframe\">\n",
       "  <thead>\n",
       "    <tr style=\"text-align: right;\">\n",
       "      <th></th>\n",
       "      <th>Call Connect Time</th>\n",
       "      <th>Bank Holiday</th>\n",
       "      <th>In_Out_Hours</th>\n",
       "    </tr>\n",
       "  </thead>\n",
       "  <tbody>\n",
       "    <tr>\n",
       "      <th>0</th>\n",
       "      <td>2022-01-15 00:00:00</td>\n",
       "      <td>No</td>\n",
       "      <td>Out of Hours</td>\n",
       "    </tr>\n",
       "    <tr>\n",
       "      <th>1</th>\n",
       "      <td>2022-01-15 01:00:00</td>\n",
       "      <td>No</td>\n",
       "      <td>Out of Hours</td>\n",
       "    </tr>\n",
       "    <tr>\n",
       "      <th>5</th>\n",
       "      <td>2022-01-15 02:00:00</td>\n",
       "      <td>No</td>\n",
       "      <td>Out of Hours</td>\n",
       "    </tr>\n",
       "    <tr>\n",
       "      <th>9</th>\n",
       "      <td>2022-01-15 03:00:00</td>\n",
       "      <td>No</td>\n",
       "      <td>Out of Hours</td>\n",
       "    </tr>\n",
       "    <tr>\n",
       "      <th>13</th>\n",
       "      <td>2022-01-15 04:00:00</td>\n",
       "      <td>No</td>\n",
       "      <td>Out of Hours</td>\n",
       "    </tr>\n",
       "  </tbody>\n",
       "</table>\n",
       "</div>"
      ],
      "text/plain": [
       "     Call Connect Time Bank Holiday  In_Out_Hours\n",
       "0  2022-01-15 00:00:00           No  Out of Hours\n",
       "1  2022-01-15 01:00:00           No  Out of Hours\n",
       "5  2022-01-15 02:00:00           No  Out of Hours\n",
       "9  2022-01-15 03:00:00           No  Out of Hours\n",
       "13 2022-01-15 04:00:00           No  Out of Hours"
      ]
     },
     "execution_count": 20,
     "metadata": {},
     "output_type": "execute_result"
    }
   ],
   "source": [
    "df_times.head()"
   ]
  },
  {
   "cell_type": "markdown",
   "metadata": {},
   "source": [
    "### Assemble"
   ]
  },
  {
   "cell_type": "code",
   "execution_count": 21,
   "metadata": {},
   "outputs": [],
   "source": [
    "# Get unique timestamps and sites\n",
    "unique_timestamps = df['Call Connect Time'].unique()\n",
    "unique_sites = df_site['Outcome Location Name'].unique()\n",
    "\n",
    "# Create a complete cross join of every site with every timestamp\n",
    "complete_index = pd.DataFrame(product(unique_timestamps, unique_sites)\n",
    "                              , columns=['Call Connect Time'\n",
    "                                         , 'Outcome Location Name'])\n"
   ]
  },
  {
   "cell_type": "code",
   "execution_count": 22,
   "metadata": {},
   "outputs": [],
   "source": [
    "## Merge time features\n",
    "df = complete_index.merge(df_times, on='Call Connect Time', how='left')"
   ]
  },
  {
   "cell_type": "code",
   "execution_count": 23,
   "metadata": {},
   "outputs": [],
   "source": [
    "## Merge calls + places\n",
    "df = df.merge(df_call,on='Call Connect Time', how='left').fillna(0)"
   ]
  },
  {
   "cell_type": "code",
   "execution_count": 24,
   "metadata": {},
   "outputs": [],
   "source": [
    "## Merge sites\n",
    "df = df.merge(df_site,on=['Call Connect Time'\n",
    "                           , 'Outcome Location Name'], how='left').fillna(0)"
   ]
  },
  {
   "cell_type": "code",
   "execution_count": 25,
   "metadata": {},
   "outputs": [
    {
     "data": {
      "text/html": [
       "<div>\n",
       "<style scoped>\n",
       "    .dataframe tbody tr th:only-of-type {\n",
       "        vertical-align: middle;\n",
       "    }\n",
       "\n",
       "    .dataframe tbody tr th {\n",
       "        vertical-align: top;\n",
       "    }\n",
       "\n",
       "    .dataframe thead th {\n",
       "        text-align: right;\n",
       "    }\n",
       "</style>\n",
       "<table border=\"1\" class=\"dataframe\">\n",
       "  <thead>\n",
       "    <tr style=\"text-align: right;\">\n",
       "      <th></th>\n",
       "      <th>Call Connect Time</th>\n",
       "      <th>Outcome Location Name</th>\n",
       "      <th>Bank Holiday</th>\n",
       "      <th>In_Out_Hours</th>\n",
       "      <th>County Durham</th>\n",
       "      <th>Newcastle Gateshead</th>\n",
       "      <th>North Tyneside</th>\n",
       "      <th>Northumberland</th>\n",
       "      <th>South Tyneside</th>\n",
       "      <th>Sunderland</th>\n",
       "      <th>Tees Valley</th>\n",
       "      <th>Outcome</th>\n",
       "    </tr>\n",
       "  </thead>\n",
       "  <tbody>\n",
       "    <tr>\n",
       "      <th>0</th>\n",
       "      <td>2022-01-15</td>\n",
       "      <td>NORTHUMBRIA SPECIALIST EMERGENCY CARE HOSPITAL</td>\n",
       "      <td>No</td>\n",
       "      <td>Out of Hours</td>\n",
       "      <td>5</td>\n",
       "      <td>4</td>\n",
       "      <td>2</td>\n",
       "      <td>2</td>\n",
       "      <td>3</td>\n",
       "      <td>2</td>\n",
       "      <td>10</td>\n",
       "      <td>0.0</td>\n",
       "    </tr>\n",
       "    <tr>\n",
       "      <th>1</th>\n",
       "      <td>2022-01-15</td>\n",
       "      <td>QUEEN ELIZABETH HOSPITAL</td>\n",
       "      <td>No</td>\n",
       "      <td>Out of Hours</td>\n",
       "      <td>5</td>\n",
       "      <td>4</td>\n",
       "      <td>2</td>\n",
       "      <td>2</td>\n",
       "      <td>3</td>\n",
       "      <td>2</td>\n",
       "      <td>10</td>\n",
       "      <td>1.0</td>\n",
       "    </tr>\n",
       "    <tr>\n",
       "      <th>2</th>\n",
       "      <td>2022-01-15</td>\n",
       "      <td>SUNDERLAND ROYAL HOSPITAL</td>\n",
       "      <td>No</td>\n",
       "      <td>Out of Hours</td>\n",
       "      <td>5</td>\n",
       "      <td>4</td>\n",
       "      <td>2</td>\n",
       "      <td>2</td>\n",
       "      <td>3</td>\n",
       "      <td>2</td>\n",
       "      <td>10</td>\n",
       "      <td>0.0</td>\n",
       "    </tr>\n",
       "    <tr>\n",
       "      <th>3</th>\n",
       "      <td>2022-01-15</td>\n",
       "      <td>UNIVERSITY HOSPITAL OF NORTH DURHAM</td>\n",
       "      <td>No</td>\n",
       "      <td>Out of Hours</td>\n",
       "      <td>5</td>\n",
       "      <td>4</td>\n",
       "      <td>2</td>\n",
       "      <td>2</td>\n",
       "      <td>3</td>\n",
       "      <td>2</td>\n",
       "      <td>10</td>\n",
       "      <td>1.0</td>\n",
       "    </tr>\n",
       "    <tr>\n",
       "      <th>4</th>\n",
       "      <td>2022-01-15</td>\n",
       "      <td>UNIVERSITY HOSPITAL OF NORTH TEES</td>\n",
       "      <td>No</td>\n",
       "      <td>Out of Hours</td>\n",
       "      <td>5</td>\n",
       "      <td>4</td>\n",
       "      <td>2</td>\n",
       "      <td>2</td>\n",
       "      <td>3</td>\n",
       "      <td>2</td>\n",
       "      <td>10</td>\n",
       "      <td>2.0</td>\n",
       "    </tr>\n",
       "  </tbody>\n",
       "</table>\n",
       "</div>"
      ],
      "text/plain": [
       "  Call Connect Time                           Outcome Location Name  \\\n",
       "0        2022-01-15  NORTHUMBRIA SPECIALIST EMERGENCY CARE HOSPITAL   \n",
       "1        2022-01-15                        QUEEN ELIZABETH HOSPITAL   \n",
       "2        2022-01-15                       SUNDERLAND ROYAL HOSPITAL   \n",
       "3        2022-01-15             UNIVERSITY HOSPITAL OF NORTH DURHAM   \n",
       "4        2022-01-15               UNIVERSITY HOSPITAL OF NORTH TEES   \n",
       "\n",
       "  Bank Holiday  In_Out_Hours  County Durham  Newcastle Gateshead  \\\n",
       "0           No  Out of Hours              5                    4   \n",
       "1           No  Out of Hours              5                    4   \n",
       "2           No  Out of Hours              5                    4   \n",
       "3           No  Out of Hours              5                    4   \n",
       "4           No  Out of Hours              5                    4   \n",
       "\n",
       "   North Tyneside  Northumberland  South Tyneside  Sunderland  Tees Valley  \\\n",
       "0               2               2               3           2           10   \n",
       "1               2               2               3           2           10   \n",
       "2               2               2               3           2           10   \n",
       "3               2               2               3           2           10   \n",
       "4               2               2               3           2           10   \n",
       "\n",
       "   Outcome  \n",
       "0      0.0  \n",
       "1      1.0  \n",
       "2      0.0  \n",
       "3      1.0  \n",
       "4      2.0  "
      ]
     },
     "execution_count": 25,
     "metadata": {},
     "output_type": "execute_result"
    }
   ],
   "source": [
    "df.head()"
   ]
  },
  {
   "cell_type": "markdown",
   "metadata": {},
   "source": [
    "### date time"
   ]
  },
  {
   "cell_type": "code",
   "execution_count": 26,
   "metadata": {},
   "outputs": [],
   "source": [
    "## Date time conversion to numeric\n",
    "df['year']    = df['Call Connect Time'].dt.year\n",
    "\n",
    "df['month sin'] = np.sin(df['Call Connect Time'].dt.month * (2*np.pi/12))\n",
    "df['month cos'] = np.cos(df['Call Connect Time'].dt.month * (2*np.pi/12))\n",
    "\n",
    "df['YearDay sin'] = np.sin(df['Call Connect Time'].dt.day_of_year * (2*np.pi/365))\n",
    "df['YearDay cos'] = np.cos(df['Call Connect Time'].dt.day_of_year * (2*np.pi/365))\n",
    "\n",
    "df['weekday sin'] = np.sin(df['Call Connect Time'].dt.weekday+1 * (2*np.pi/7))  # Monday=0, Sunday=6\n",
    "df['weekday cos'] = np.cos(df['Call Connect Time'].dt.weekday+1 * (2*np.pi/7))  # Monday=0, Sunday=6\n",
    "\n",
    "df['Hour sin'] = np.sin(df['Call Connect Time'].dt.hour * (2*np.pi/24))\n",
    "df['Hour cos'] = np.cos(df['Call Connect Time'].dt.hour * (2*np.pi/24))\n",
    "\n",
    "df = df.drop('Call Connect Time',axis=1) "
   ]
  },
  {
   "cell_type": "markdown",
   "metadata": {},
   "source": [
    "### split data so that the testing data doesn't get into the weightings"
   ]
  },
  {
   "cell_type": "code",
   "execution_count": 44,
   "metadata": {},
   "outputs": [],
   "source": [
    "X_weight = df # includes outcome because we will use it\n",
    "y_weight = df['Outcome'] # y = 'Outcome' column \n",
    "\n",
    "\n",
    "df_weight, drop_X_test, drop_y_train, drop_y_test = train_test_split(X_weight\n",
    "                                                    , y_weight \n",
    "                                                    , test_size = 0.25\n",
    "                                                    , random_state=42)\n",
    "\n",
    "drop_X_test = None\n",
    "drop_y_train = None\n",
    "drop_y_test = None"
   ]
  },
  {
   "cell_type": "code",
   "execution_count": null,
   "metadata": {},
   "outputs": [],
   "source": []
  },
  {
   "cell_type": "code",
   "execution_count": null,
   "metadata": {},
   "outputs": [],
   "source": [
    "\n",
    "df_weight = pd.pivot_table(df_weight\n",
    "                        ,values = 'Calls'\n",
    "                        ,index = ['hour','month','weekday','Sub ICB Name']\n",
    "                        ,columns ='Outcome Location Name'\n",
    "                        ,aggfunc ='sum'\n",
    "                        ,fill_value = 0)"
   ]
  },
  {
   "cell_type": "code",
   "execution_count": null,
   "metadata": {},
   "outputs": [],
   "source": [
    "\n",
    "df = df.merge(df_weight,on=group_cols, how='left').fillna(1)"
   ]
  },
  {
   "cell_type": "markdown",
   "metadata": {},
   "source": [
    "### encoding"
   ]
  },
  {
   "cell_type": "code",
   "execution_count": null,
   "metadata": {},
   "outputs": [],
   "source": [
    "## One hot encodinng for boolean variables\n",
    "bool_mapping = {\n",
    "    'Yes': 1,\n",
    "    'No': 0,\n",
    "    'In Hours': 1,\n",
    "    'Out of Hours': 0\n",
    "}\n",
    "\n",
    "df.loc[:,'Is Bank Holiday'] = df['Bank Holiday'].map(bool_mapping)             \n",
    "df.loc[:,'In Hours'] = df['In_Out_Hours'].map(bool_mapping)\n",
    "df = df.drop(['Bank Holiday','In_Out_Hours'],axis=1) "
   ]
  },
  {
   "cell_type": "code",
   "execution_count": null,
   "metadata": {},
   "outputs": [],
   "source": [
    "## Dummy variables from Outcome Location Name\t\n",
    "df = pd.concat([df, pd.get_dummies(df['Outcome Location Name']\n",
    "                                   ,dtype=int\n",
    "                                   , prefix='Site')]\n",
    "                ,axis=1)\n",
    "df = df.drop('Outcome Location Name', axis=1)"
   ]
  },
  {
   "cell_type": "code",
   "execution_count": null,
   "metadata": {},
   "outputs": [],
   "source": [
    "df.head()"
   ]
  },
  {
   "cell_type": "code",
   "execution_count": null,
   "metadata": {},
   "outputs": [],
   "source": [
    "df.columns"
   ]
  },
  {
   "cell_type": "markdown",
   "metadata": {},
   "source": [
    "## Build a baseline mode"
   ]
  },
  {
   "cell_type": "markdown",
   "metadata": {},
   "source": [
    "Baseline split"
   ]
  },
  {
   "cell_type": "code",
   "execution_count": null,
   "metadata": {},
   "outputs": [],
   "source": [
    "base_X = df.drop('Outcome',axis=1)# X = all  except the 'Outcome' column\n",
    "base_y = df['Outcome']# y = 'Outcome' column \n",
    "\n",
    "base_X_train, base_X_test, base_y_train, base_y_test = train_test_split(base_X\n",
    "                                                    , base_y \n",
    "                                                    , test_size = 0.25\n",
    "                                                    , random_state=42)"
   ]
  },
  {
   "cell_type": "code",
   "execution_count": null,
   "metadata": {},
   "outputs": [],
   "source": [
    "## Joins outcome onto predictors\n",
    "base_df = pd.concat([base_X_train,base_y_train],axis=1)"
   ]
  },
  {
   "cell_type": "code",
   "execution_count": null,
   "metadata": {},
   "outputs": [],
   "source": [
    "## Columns we care about for baseline model\n",
    "group_cols = [\n",
    "    'month sin'\n",
    "    ,'month cos'    \n",
    "    ,'weekday sin'\n",
    "    ,'weekday cos'\n",
    "    ,'Hour sin'\n",
    "    ,'Hour cos'] + df.columns[df.columns.str.startswith('Site_')].to_list() ## sites\n",
    "\n",
    "## Mean value across baseline\n",
    "base_trained = (base_df[group_cols + ['Outcome']]\n",
    "                .groupby(group_cols)\n",
    "                .agg( Pred_Outcome=pd.NamedAgg(column=\"Outcome\"\n",
    "                                               , aggfunc=\"mean\"))\n",
    "                )"
   ]
  },
  {
   "cell_type": "code",
   "execution_count": null,
   "metadata": {},
   "outputs": [],
   "source": [
    "base_y_pred_train = pd.merge(base_X_train,base_trained,how='left',on=group_cols)['Pred_Outcome']\n",
    "base_y_pred_test = pd.merge(base_X_test,base_trained,how='left',on=group_cols)['Pred_Outcome']"
   ]
  },
  {
   "cell_type": "markdown",
   "metadata": {},
   "source": [
    "## Split"
   ]
  },
  {
   "cell_type": "code",
   "execution_count": null,
   "metadata": {},
   "outputs": [],
   "source": [
    "X = df.drop('Outcome',axis=1).to_numpy() # X = all  except the 'Outcome' column\n",
    "y = df['Outcome'].to_numpy() # y = 'Outcome' column \n",
    "\n",
    "\n",
    "X_train, X_test, y_train, y_test = train_test_split(X\n",
    "                                                    , y \n",
    "                                                    , test_size = 0.25\n",
    "                                                    , random_state=42)"
   ]
  },
  {
   "cell_type": "markdown",
   "metadata": {},
   "source": [
    "## Scale"
   ]
  },
  {
   "cell_type": "code",
   "execution_count": null,
   "metadata": {},
   "outputs": [],
   "source": [
    "def scale_data(Xy_train, Xy_test,X_or_y = ['X','y']):\n",
    "    \"\"\"Scale data 0-1 based on min and max in training set\"\"\"\n",
    "    \n",
    "    # Initialise a new scaling object for normalising input data\n",
    "    sc = MinMaxScaler()\n",
    "    \n",
    "    if X_or_y == 'X':\n",
    "        # Apply the scaler to the training and test sets\n",
    "        train_sc = sc.fit_transform(Xy_train)\n",
    "        test_sc = sc.transform(Xy_test)\n",
    "\n",
    "    elif X_or_y == 'y':\n",
    "        # Apply the scaler to the training and test sets\n",
    "        train_sc = sc.fit_transform(Xy_train.reshape(-1, 1))\n",
    "        test_sc = sc.transform(Xy_test.reshape(-1, 1))        \n",
    "        \n",
    "    return train_sc, test_sc"
   ]
  },
  {
   "cell_type": "code",
   "execution_count": null,
   "metadata": {},
   "outputs": [],
   "source": [
    "# Scale X data\n",
    "X_train, X_test = scale_data(X_train, X_test, X_or_y='X')\n",
    "\n",
    "\n",
    "# Scale y data\n",
    "#y_train, y_test = scale_data(y_train, y_test, X_or_y='y')"
   ]
  },
  {
   "cell_type": "markdown",
   "metadata": {},
   "source": [
    "## Build a model"
   ]
  },
  {
   "cell_type": "code",
   "execution_count": null,
   "metadata": {},
   "outputs": [],
   "source": [
    "def make_net(number_features, \n",
    "             hidden_layers=3, \n",
    "             hidden_layer_neurones=128, \n",
    "             dropout=0.0, \n",
    "             learning_rate=0.003):\n",
    "    \n",
    "    \"\"\"Make TensorFlow neural net\"\"\"\n",
    "    \n",
    "    # Clear Tensorflow \n",
    "    K.clear_session()\n",
    "    \n",
    "    # Set up neural net\n",
    "    net = Sequential()\n",
    "    \n",
    "    # Add hidden hidden_layers using a loop\n",
    "    for i in range(hidden_layers):\n",
    "        # Add fully connected layer with ReLu activation\n",
    "        net.add(Dense(\n",
    "            hidden_layer_neurones, \n",
    "            input_dim=number_features,\n",
    "            activation='relu'))\n",
    "        # Add droput layer\n",
    "        net.add(Dropout(dropout))\n",
    "    \n",
    "    # Add final sigmoid activation output\n",
    "    net.add(Dense(1, activation='linear'))    \n",
    "    #    net.add(Dense(1, activation='sigmoid'))    \n",
    "\n",
    "    # Compiling model\n",
    "    opt = Adam(learning_rate=learning_rate)\n",
    "    \n",
    "    net.compile(loss='mse', \n",
    "                optimizer=opt, \n",
    "                metrics=['mae'])\n",
    "    \n",
    "    return net"
   ]
  },
  {
   "cell_type": "code",
   "execution_count": null,
   "metadata": {},
   "outputs": [],
   "source": [
    "def calculate_site_accuracy(df,model, X_train, X_test, y_train, y_test):\n",
    "    \"\"\"Calculate and print accuracy at site level of training and test data fits\"\"\"    \n",
    "    \n",
    "    X_df = df.drop('Outcome',axis=1)\n",
    "    site_columns = X_df.columns[X_df.columns.str.startswith('Site_')]\n",
    "\n",
    "    results = []\n",
    "\n",
    "    for site in site_columns:\n",
    "        \n",
    "        # Get the column index for the site\n",
    "        site_idx = X_df.columns.get_loc(site)\n",
    "\n",
    "        # Filter array where site column equals 1\n",
    "        test_index = np.where(X_test[:, site_idx] == 1)[0]  \n",
    "        site_X_test = X_test[test_index]\n",
    "        site_y_test = y_test[test_index]\n",
    "\n",
    "        train_index = np.where(X_train[:, site_idx] == 1)[0]  \n",
    "        site_X_train = X_train[train_index]\n",
    "        site_y_train = y_train[train_index]\n",
    "\n",
    "        # Predict on training and test data\n",
    "        print(f'{site}: col {site_idx}')\n",
    "        site_y_pred_train = model.predict(site_X_train).flatten()\n",
    "        site_y_pred_test = model.predict(site_X_test).flatten()\n",
    "    \n",
    "        # Calculate Mean Absolute Error (MAE) for training and test sets\n",
    "        site_mae_train = np.mean(np.abs(site_y_pred_train - site_y_train))\n",
    "        site_mae_test = np.mean(np.abs(site_y_pred_test - site_y_test))\n",
    "        \n",
    "        # Calculate Mean Squared Error (MSE) for training and test sets\n",
    "        site_mse_train = np.mean((site_y_pred_train - site_y_train) ** 2)\n",
    "        site_mse_test = np.mean((site_y_pred_test - site_y_test) ** 2)\n",
    "\n",
    "        # Calculate Root Mean Squared Error (RMSE) for training and test sets\n",
    "        site_rmse_train = np.sqrt(site_mse_train)\n",
    "        site_rmse_test = np.sqrt(site_mse_test)\n",
    "\n",
    "        # Calculate NRMSE (Normalized RMSE)\n",
    "        range_y_train = np.max(site_y_train) - np.min(site_y_train)  # Range of y_train\n",
    "        range_y_test = np.max(site_y_test) - np.min(site_y_test)  # Range of y_test\n",
    "        site_nrmse_train = site_rmse_train / range_y_train\n",
    "        site_nrmse_test = site_rmse_test / range_y_test\n",
    "\n",
    "        # Calculate R^2 for training and test sets\n",
    "        ss_total_train = np.sum((site_y_train - np.mean(site_y_train)) ** 2)\n",
    "        ss_total_test = np.sum((site_y_test - np.mean(site_y_test)) ** 2)\n",
    "        ss_residual_train = np.sum((site_y_pred_train - site_y_train) ** 2)\n",
    "        ss_residual_test = np.sum((site_y_pred_test - site_y_test) ** 2)\n",
    "\n",
    "        r2_train = 1 - (ss_residual_train / ss_total_train)\n",
    "        r2_test = 1 - (ss_residual_test / ss_total_test)\n",
    "\n",
    "        ## results\n",
    "        site_result = {'Site':site\n",
    "                    ,'MAE train':site_mae_train                   \n",
    "                    ,'MAE test':site_mae_test\n",
    "                    ,'MSE train':site_mse_train\n",
    "                    ,'MSE test':site_mse_test\n",
    "                    ,'NRMSE train':site_nrmse_train\n",
    "                    ,'NRMSE test':site_nrmse_test\n",
    "                    ,'r2 train':r2_train\n",
    "                    ,'r2 test':r2_test\n",
    "                    }\n",
    "\n",
    "        results.append(site_result)\n",
    "\n",
    "    results = pd.DataFrame(results)\n",
    "\n",
    "    return results"
   ]
  },
  {
   "cell_type": "code",
   "execution_count": null,
   "metadata": {},
   "outputs": [],
   "source": [
    "def plot_training(history_dict,measure='mae'):\n",
    "    acc_values = history_dict[measure]\n",
    "    val_acc_values = history_dict[f'val_{measure}']\n",
    "    epochs = range(1, len(acc_values) + 1)\n",
    "\n",
    "    fig, ax = plt.subplots()\n",
    "\n",
    "    ax.set_xlabel('Time')\n",
    "    ax.set_ylabel(measure)\n",
    "\n",
    "    ax.plot(epochs, acc_values, color='blue', label=f'Training {measure}')\n",
    "    ax.plot(epochs, val_acc_values, color='red', label=f'Test {measure}')\n",
    "    ax.set_title(f'Training and validation {measure}')\n",
    "    \n",
    "    ax.legend()\n",
    "\n",
    "    fig.show()"
   ]
  },
  {
   "cell_type": "code",
   "execution_count": null,
   "metadata": {},
   "outputs": [],
   "source": [
    "model = make_net(number_features=X_train.shape[1], \n",
    "             hidden_layers=3, \n",
    "             hidden_layer_neurones=128, \n",
    "             dropout=0.10, \n",
    "             learning_rate=0.003)"
   ]
  },
  {
   "cell_type": "code",
   "execution_count": null,
   "metadata": {},
   "outputs": [],
   "source": [
    "# Define save checkpoint callback (only save if new best validation results)\n",
    "checkpoint_cb = keras.callbacks.ModelCheckpoint(\n",
    "    'model_checkpoint.keras', save_best_only=True)\n",
    "\n",
    "# Define early stopping callback\n",
    "# Stop when no validation improvement for 25 epochs\n",
    "# Restore weights to best validation accuracy\n",
    "early_stopping_cb_loss = keras.callbacks.EarlyStopping(\n",
    "    patience=20, restore_best_weights=True, monitor='val_loss')\n",
    "\n",
    "#early_stopping_cb_acc = keras.callbacks.EarlyStopping(\n",
    "#    patience=5, restore_best_weights=True, monitor='val_accuracy')\n",
    "\n",
    "\n",
    "### Train model (and store training info in history)\n",
    "history = model.fit(X_train,\n",
    "                    y_train,\n",
    "                    epochs=200,\n",
    "                    batch_size=64,\n",
    "                    validation_data=(X_test, y_test),\n",
    "                    verbose=1,\n",
    "                    callbacks=[checkpoint_cb\n",
    "                               , early_stopping_cb_loss\n",
    "                               #, early_stopping_cb_acc\n",
    "                               ])"
   ]
  },
  {
   "cell_type": "markdown",
   "metadata": {},
   "source": [
    "## Accuracy"
   ]
  },
  {
   "cell_type": "code",
   "execution_count": null,
   "metadata": {},
   "outputs": [],
   "source": [
    "## Baseline accuracy is the mean of site, month, weekday, hour\n",
    "keras_calculate_baseline_accuracy(base_y_pred_train\n",
    "                                ,base_y_pred_test\n",
    "                                ,base_y_train\n",
    "                                ,base_y_test)\n"
   ]
  },
  {
   "cell_type": "code",
   "execution_count": null,
   "metadata": {},
   "outputs": [],
   "source": [
    "keras_calculate_accuracy(model, X_train, X_test, y_train, y_test)"
   ]
  },
  {
   "cell_type": "code",
   "execution_count": null,
   "metadata": {},
   "outputs": [],
   "source": [
    "site_results = calculate_site_accuracy(df,model\n",
    "                                       , X_train\n",
    "                                       , X_test\n",
    "                                       , y_train\n",
    "                                       , y_test)"
   ]
  },
  {
   "cell_type": "code",
   "execution_count": null,
   "metadata": {},
   "outputs": [],
   "source": [
    "site_results"
   ]
  },
  {
   "cell_type": "code",
   "execution_count": null,
   "metadata": {},
   "outputs": [],
   "source": [
    "plot_training(history.history,measure='mae')"
   ]
  },
  {
   "cell_type": "code",
   "execution_count": null,
   "metadata": {},
   "outputs": [],
   "source": [
    "# Generate predictions\n",
    "y_pred_train = model.predict(X_train).flatten()\n",
    "y_pred_test = model.predict(X_test).flatten()\n",
    "\n",
    "# Plot errors for both training and test data\n",
    "plot_prediction_error(y_train, y_pred_train, title='Training Data - Prediction Error Plot')\n",
    "plot_prediction_error(y_test, y_pred_test, title='Test Data - Prediction Error Plot')"
   ]
  },
  {
   "cell_type": "code",
   "execution_count": null,
   "metadata": {},
   "outputs": [],
   "source": [
    "# Generate predictions\n",
    "y_pred_train = model.predict(X_train).flatten()\n",
    "y_pred_test = model.predict(X_test).flatten()\n",
    "\n",
    "# Plot the density plots as subplots\n",
    "plot_prediction_density_subplots(y_train, y_pred_train, y_test, y_pred_test)\n"
   ]
  },
  {
   "cell_type": "code",
   "execution_count": null,
   "metadata": {},
   "outputs": [],
   "source": [
    "plot_prediction_density_subplots(base_y_train\n",
    "                                 , base_y_pred_train\n",
    "                                 , base_y_test\n",
    "                                 , base_y_pred_test)"
   ]
  }
 ],
 "metadata": {
  "kernelspec": {
   "display_name": "Python 3",
   "language": "python",
   "name": "python3"
  },
  "language_info": {
   "codemirror_mode": {
    "name": "ipython",
    "version": 3
   },
   "file_extension": ".py",
   "mimetype": "text/x-python",
   "name": "python",
   "nbconvert_exporter": "python",
   "pygments_lexer": "ipython3",
   "version": "3.11.4"
  }
 },
 "nbformat": 4,
 "nbformat_minor": 2
}
