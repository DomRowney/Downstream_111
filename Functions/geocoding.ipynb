{
 "cells": [
  {
   "cell_type": "markdown",
   "metadata": {},
   "source": [
    "# Packages"
   ]
  },
  {
   "cell_type": "code",
   "execution_count": 63,
   "metadata": {},
   "outputs": [],
   "source": [
    "import pandas as pd\n",
    "import numpy as np\n",
    "import math\n",
    "import sqlalchemy \n",
    "from sqlalchemy import create_engine, text\n",
    "from routingpy import ORS as ors\n",
    "import requests\n",
    "\n",
    "from db_secrets import SQL_107\n",
    "from ors_secrets import get_ors_key"
   ]
  },
  {
   "cell_type": "markdown",
   "metadata": {},
   "source": [
    "# Connection"
   ]
  },
  {
   "cell_type": "code",
   "execution_count": 64,
   "metadata": {},
   "outputs": [],
   "source": [
    "## text for gp query\n",
    "gp_query_text = \"\"\"\n",
    "SELECT p.[Organisation_Code] AS\t[GP Practice Code]\n",
    "      ,p.[Organisation_Name] AS [GP Practice Name]\n",
    "\t  ,p.[Postcode]\n",
    "FROM [UK_Health_Dimensions].[ODS].[GP_Practices_And_Prescribing_CCs_SCD] AS p\n",
    "WHERE \n",
    "\t1=1\n",
    "\tAND\tp.[Is_Latest] = 1\n",
    "\tAND\tp.[High_Level_Health_Authority_Code]  = 'QHM'\n",
    "\tAND\tp.[Prescribing_Setting] = 4\n",
    "\tAND\tp.[Parent_Organisation_Code] != '01H'\n",
    "\"\"\""
   ]
  },
  {
   "cell_type": "code",
   "execution_count": 65,
   "metadata": {},
   "outputs": [],
   "source": [
    "## text for site query\n",
    "ae_query_text = \"\"\"\n",
    "-- removes messages\n",
    "SET NOCOUNT ON\n",
    "\n",
    "-- Creates lookup for UCC sites\n",
    "DROP TABLE IF EXISTS #RXP_UCC\n",
    "CREATE TABLE #RXP_UCC (\n",
    "\t\t[ods_code] varchar(5)\n",
    "\t,\t[site_name] varchar(250)\n",
    "\t);\n",
    "INSERT INTO #RXP_UCC ([ods_code],[site_name])\n",
    "VALUES\n",
    "\t ('RXPRD','Seaham Urgent Care Centre'\t\t\t   )\n",
    "\t,('RXP09','Peterlee Urgent Care Centre'\t\t\t   )\n",
    "\t,('RXP09','Peterlee UTC'\t\t\t\t\t\t   )\n",
    "\t,('RXPCP','OOH University Hospital of North Durham')\n",
    "\t,('RXPCP','Durham UTC'\t\t\t\t\t\t\t   )\n",
    "\t,('RXPDA','Darlington UTC'\t\t\t\t\t\t   )\n",
    "\t,('RXPDA','Darlington Out of Hours Service'\t\t   )\n",
    "\t,('RXPBA','Bishop Auckland Urgent Care Centre'\t   )\n",
    "\t,('RXPBA','Bishop Auckland UTC'\t\t\t\t\t   )\n",
    "\t,('RXP11','Shotley Bridge UTC'\t\t\t\t\t   )\n",
    "\t,('RXP11','OOH Shotley Bridge Urgent Care Centre'  );\n",
    "\n",
    "-- Gets postcodes\n",
    "SELECT DISTINCT \n",
    "\t\ta.[ods_code]\t\t\tAS\t[UEC Site Code]\n",
    "\t,\tt.[Organisation_Name]\tAS\t[UEC Site Name]\n",
    "\t,\tt.[Postcode]\n",
    "FROM \n",
    "\t(\tSELECT DISTINCT\n",
    "\t\t\t[attendance.location.site] AS [ods_code]\n",
    "\t\tFROM\n",
    "\t\t\t[LocalDataNECS].[ecds].[emergency_care]\tAS a\n",
    "\t\tWHERE\n",
    "\t\t\t1=1\n",
    "\t\t\tAND a.[attendance.location.department_type] in ('01','02','03','04')\n",
    "\t\t\tAND a.[attendance.location.hes_provider_3] in ('RTD','RR7','RTF','RXP','RVW','RTR','R0B','RNN')\n",
    "\t\t\tAND a.[attendance.arrival.date] >= '2022-01-1'\n",
    "\t\tUNION ALL\n",
    "\t\tSELECT\n",
    "\t\t\t[ods_code]\n",
    "\t\tFROM \n",
    "\t\t\t#RXP_UCC AS u) AS a\n",
    "\tLEFT JOIN\t[UK_Health_Dimensions].[ODS].[NHS_Trusts_And_Trust_Sites_SCD] AS t\n",
    "\t\t\tON\tt.[Is_Latest] = 1\n",
    "\t\t\tAND a.[ods_code] = t.[Organisation_Code];\n",
    "\n",
    "DROP TABLE IF EXISTS #RXP_UCC;\n",
    "\"\"\""
   ]
  },
  {
   "cell_type": "code",
   "execution_count": 66,
   "metadata": {},
   "outputs": [],
   "source": [
    "## Create an engine + connection\n",
    "engine = create_engine(SQL_107())\n",
    "conn = engine.connect()\n",
    "\n",
    "## Return data\n",
    "df_gp_raw = pd.read_sql(gp_query_text,conn)\n",
    "df_ae_raw = pd.read_sql(ae_query_text,conn)\n"
   ]
  },
  {
   "cell_type": "code",
   "execution_count": 67,
   "metadata": {},
   "outputs": [],
   "source": [
    "df_gp = df_gp_raw.copy()\n",
    "df_ae = df_ae_raw.copy()"
   ]
  },
  {
   "cell_type": "markdown",
   "metadata": {},
   "source": [
    "# Lat / Long"
   ]
  },
  {
   "cell_type": "markdown",
   "metadata": {},
   "source": [
    "## API to get lat/long"
   ]
  },
  {
   "cell_type": "code",
   "execution_count": 68,
   "metadata": {},
   "outputs": [],
   "source": [
    "def fetch_lat_lon(data, col):\n",
    "    \n",
    "    # Convert the postcodes from the DataFrame into a list\n",
    "    postcodes = data[col].tolist()\n",
    "\n",
    "    # to split data into 100s\n",
    "    n = round(data[col].count()/100)\n",
    "\n",
    "    # results list\n",
    "    results = []\n",
    "\n",
    "    for x in range(0,n+1):\n",
    "        \n",
    "        # 100 rows\n",
    "        start = x*100\n",
    "        end = (x*100)+100\n",
    "        \n",
    "        # Prepare the payload for the POST request\n",
    "        payload = {\"postcodes\": postcodes[start:end]}\n",
    "        \n",
    "        # Make the POST request to the API\n",
    "        response = requests.post(\"https://api.postcodes.io/postcodes\", json=payload)\n",
    "        \n",
    "        # Check if the response is successful\n",
    "        if response.status_code == 200:\n",
    "            print(f'Status 200. Fetched rows: {start} to {end-1}')\n",
    "\n",
    "            # Parse the JSON response\n",
    "            response_data = response.json()\n",
    "            \n",
    "            # Extract latitude and longitude from each result\n",
    "\n",
    "            for i in response_data['result']:\n",
    "                if i['result']:  # Ensure there is a valid result\n",
    "                    lat = i['result']['latitude']\n",
    "                    lon = i['result']['longitude']\n",
    "                    results.append({\"Postcode\": i['query']\n",
    "                                    , \"latitude\": lat, \"longitude\": lon})\n",
    "                else:\n",
    "                    results.append({\"Postcode\": i['query']\n",
    "                                    , \"latitude\": None, \"longitude\": None})\n",
    "        else:\n",
    "            break\n",
    "\n",
    "    # checks if last response was sucessful\n",
    "    if response.status_code == 200:           \n",
    "        # Convert results into a DataFrame\n",
    "        results_df = pd.DataFrame(results).drop_duplicates()\n",
    "\n",
    "        # joins results back into data\n",
    "        data = data.merge(results_df, how = 'left'\n",
    "                            ,left_on=col, right_on='Postcode')\n",
    "        return(data)\n",
    "    \n",
    "    # print error message if api fails\n",
    "    else:\n",
    "        print(\"Failed to fetch data:\", response.status_code)\n",
    "        return None"
   ]
  },
  {
   "cell_type": "markdown",
   "metadata": {},
   "source": [
    "## Fetch lat/long"
   ]
  },
  {
   "cell_type": "code",
   "execution_count": 69,
   "metadata": {},
   "outputs": [
    {
     "name": "stdout",
     "output_type": "stream",
     "text": [
      "Status 200. Fetched rows: 0 to 99\n",
      "Status 200. Fetched rows: 100 to 199\n",
      "Status 200. Fetched rows: 200 to 299\n",
      "Status 200. Fetched rows: 300 to 399\n",
      "Status 200. Fetched rows: 0 to 99\n"
     ]
    }
   ],
   "source": [
    "# Fetch lat/lon for each postcode in the DataFrame\n",
    "df_gp_geo = fetch_lat_lon(df_gp,'Postcode')\n",
    "df_ae_geo = fetch_lat_lon(df_ae,'Postcode')"
   ]
  },
  {
   "cell_type": "code",
   "execution_count": 70,
   "metadata": {},
   "outputs": [
    {
     "data": {
      "text/html": [
       "<div>\n",
       "<style scoped>\n",
       "    .dataframe tbody tr th:only-of-type {\n",
       "        vertical-align: middle;\n",
       "    }\n",
       "\n",
       "    .dataframe tbody tr th {\n",
       "        vertical-align: top;\n",
       "    }\n",
       "\n",
       "    .dataframe thead th {\n",
       "        text-align: right;\n",
       "    }\n",
       "</style>\n",
       "<table border=\"1\" class=\"dataframe\">\n",
       "  <thead>\n",
       "    <tr style=\"text-align: right;\">\n",
       "      <th></th>\n",
       "      <th>GP Practice Code</th>\n",
       "      <th>GP Practice Name</th>\n",
       "      <th>Postcode</th>\n",
       "      <th>latitude</th>\n",
       "      <th>longitude</th>\n",
       "    </tr>\n",
       "  </thead>\n",
       "  <tbody>\n",
       "    <tr>\n",
       "      <th>0</th>\n",
       "      <td>A83626</td>\n",
       "      <td>EVENWOOD MEDICAL PRACTICE</td>\n",
       "      <td>DL14 9SU</td>\n",
       "      <td>54.620132</td>\n",
       "      <td>-1.758629</td>\n",
       "    </tr>\n",
       "    <tr>\n",
       "      <th>1</th>\n",
       "      <td>A81022</td>\n",
       "      <td>HILLSIDE PRACTICE</td>\n",
       "      <td>TS12 2TG</td>\n",
       "      <td>54.563154</td>\n",
       "      <td>-0.980814</td>\n",
       "    </tr>\n",
       "    <tr>\n",
       "      <th>2</th>\n",
       "      <td>A81058</td>\n",
       "      <td>COULBY MEDICAL PRACTICE</td>\n",
       "      <td>TS8 0TL</td>\n",
       "      <td>54.524805</td>\n",
       "      <td>-1.213762</td>\n",
       "    </tr>\n",
       "    <tr>\n",
       "      <th>3</th>\n",
       "      <td>A83057</td>\n",
       "      <td>EAST DURHAM MEDICAL GROUP</td>\n",
       "      <td>TS28 5PZ</td>\n",
       "      <td>54.725581</td>\n",
       "      <td>-1.378951</td>\n",
       "    </tr>\n",
       "    <tr>\n",
       "      <th>4</th>\n",
       "      <td>A83029</td>\n",
       "      <td>GREAT LUMLEY SURGERY</td>\n",
       "      <td>DH3 4LE</td>\n",
       "      <td>54.837249</td>\n",
       "      <td>-1.543118</td>\n",
       "    </tr>\n",
       "  </tbody>\n",
       "</table>\n",
       "</div>"
      ],
      "text/plain": [
       "  GP Practice Code           GP Practice Name  Postcode   latitude  longitude\n",
       "0           A83626  EVENWOOD MEDICAL PRACTICE  DL14 9SU  54.620132  -1.758629\n",
       "1           A81022          HILLSIDE PRACTICE  TS12 2TG  54.563154  -0.980814\n",
       "2           A81058    COULBY MEDICAL PRACTICE   TS8 0TL  54.524805  -1.213762\n",
       "3           A83057  EAST DURHAM MEDICAL GROUP  TS28 5PZ  54.725581  -1.378951\n",
       "4           A83029       GREAT LUMLEY SURGERY   DH3 4LE  54.837249  -1.543118"
      ]
     },
     "execution_count": 70,
     "metadata": {},
     "output_type": "execute_result"
    }
   ],
   "source": [
    "df_gp_geo.head()"
   ]
  },
  {
   "cell_type": "code",
   "execution_count": 71,
   "metadata": {},
   "outputs": [
    {
     "data": {
      "text/html": [
       "<div>\n",
       "<style scoped>\n",
       "    .dataframe tbody tr th:only-of-type {\n",
       "        vertical-align: middle;\n",
       "    }\n",
       "\n",
       "    .dataframe tbody tr th {\n",
       "        vertical-align: top;\n",
       "    }\n",
       "\n",
       "    .dataframe thead th {\n",
       "        text-align: right;\n",
       "    }\n",
       "</style>\n",
       "<table border=\"1\" class=\"dataframe\">\n",
       "  <thead>\n",
       "    <tr style=\"text-align: right;\">\n",
       "      <th></th>\n",
       "      <th>UEC Site Code</th>\n",
       "      <th>UEC Site Name</th>\n",
       "      <th>Postcode</th>\n",
       "      <th>latitude</th>\n",
       "      <th>longitude</th>\n",
       "    </tr>\n",
       "  </thead>\n",
       "  <tbody>\n",
       "    <tr>\n",
       "      <th>0</th>\n",
       "      <td>R0B01</td>\n",
       "      <td>SUNDERLAND ROYAL HOSPITAL</td>\n",
       "      <td>SR4 7TP</td>\n",
       "      <td>54.902214</td>\n",
       "      <td>-1.410327</td>\n",
       "    </tr>\n",
       "    <tr>\n",
       "      <th>1</th>\n",
       "      <td>RXPCP</td>\n",
       "      <td>UNIVERSITY HOSPITAL OF NORTH DURHAM</td>\n",
       "      <td>DH1 5TW</td>\n",
       "      <td>54.788497</td>\n",
       "      <td>-1.593834</td>\n",
       "    </tr>\n",
       "    <tr>\n",
       "      <th>2</th>\n",
       "      <td>RXPDA</td>\n",
       "      <td>DARLINGTON MEMORIAL HOSPITAL</td>\n",
       "      <td>DL3 6HX</td>\n",
       "      <td>54.530374</td>\n",
       "      <td>-1.563733</td>\n",
       "    </tr>\n",
       "    <tr>\n",
       "      <th>3</th>\n",
       "      <td>RNN62</td>\n",
       "      <td>CUMBERLAND INFIRMARY</td>\n",
       "      <td>CA2 7HY</td>\n",
       "      <td>54.896504</td>\n",
       "      <td>-2.957796</td>\n",
       "    </tr>\n",
       "    <tr>\n",
       "      <th>4</th>\n",
       "      <td>RXP09</td>\n",
       "      <td>PETERLEE COMMUNITY HOSPITAL</td>\n",
       "      <td>SR8 5UQ</td>\n",
       "      <td>54.754067</td>\n",
       "      <td>-1.333039</td>\n",
       "    </tr>\n",
       "  </tbody>\n",
       "</table>\n",
       "</div>"
      ],
      "text/plain": [
       "  UEC Site Code                        UEC Site Name Postcode   latitude  \\\n",
       "0         R0B01            SUNDERLAND ROYAL HOSPITAL  SR4 7TP  54.902214   \n",
       "1         RXPCP  UNIVERSITY HOSPITAL OF NORTH DURHAM  DH1 5TW  54.788497   \n",
       "2         RXPDA         DARLINGTON MEMORIAL HOSPITAL  DL3 6HX  54.530374   \n",
       "3         RNN62                 CUMBERLAND INFIRMARY  CA2 7HY  54.896504   \n",
       "4         RXP09          PETERLEE COMMUNITY HOSPITAL  SR8 5UQ  54.754067   \n",
       "\n",
       "   longitude  \n",
       "0  -1.410327  \n",
       "1  -1.593834  \n",
       "2  -1.563733  \n",
       "3  -2.957796  \n",
       "4  -1.333039  "
      ]
     },
     "execution_count": 71,
     "metadata": {},
     "output_type": "execute_result"
    }
   ],
   "source": [
    "df_ae_geo.head()"
   ]
  },
  {
   "cell_type": "markdown",
   "metadata": {},
   "source": [
    "# Routing"
   ]
  },
  {
   "cell_type": "code",
   "execution_count": 29,
   "metadata": {},
   "outputs": [],
   "source": [
    "ors_api = ors(api_key=get_ors_key())"
   ]
  },
  {
   "cell_type": "code",
   "execution_count": 58,
   "metadata": {},
   "outputs": [
    {
     "name": "stdout",
     "output_type": "stream",
     "text": [
      "0 UEC sites: 0 to 8\n",
      "1 UEC sites: 8 to 16\n",
      "2 UEC sites: 16 to 24\n",
      "3 UEC sites: 24 to 32\n"
     ]
    }
   ],
   "source": [
    "## Makes list for sources (gp) and destinations (ae)\n",
    "list_gp_geo = df_gp_geo[['longitude','latitude']].values.tolist()\n",
    "list_ae_geo = df_ae_geo[['longitude','latitude']].values.tolist()\n",
    "\n",
    "## Length of lists\n",
    "len_gp = len(list_gp_geo)\n",
    "len_ae = len(list_ae_geo)\n",
    "\n",
    "## Max 3500 per API call, so split the data into chunks of that size\n",
    "iter = math.ceil((len_gp * len_ae)/3500)\n",
    "\n",
    "## List to hold results\n",
    "matrix_results = []\n",
    "\n",
    "## Iterate over the sites\n",
    "for x in range(0,iter):\n",
    "    \n",
    "    ## Size of an iteration of destinations\n",
    "    y = math.ceil(len_ae/iter)\n",
    "    \n",
    "    ## print for response\n",
    "    print(f'{x} UEC sites: {x*y} to {(x*y)+y}')\n",
    "    \n",
    "    ## short list of lat/long for destinations (ae)\n",
    "    shortlist_ae_geo = [list_ae_geo[i] for i in range(x*y,(x*y)+y)]\n",
    "    short_len_ae = len(shortlist_ae_geo)\n",
    "    \n",
    "    ## Overall list\n",
    "    list_geo = list_gp_geo + shortlist_ae_geo\n",
    "    \n",
    "    ## Positions of sources and destinations to use\n",
    "    sources_list=list(range(0,len_gp))\n",
    "    destinations_list=list(range(len_gp,len_gp+short_len_ae))\n",
    "\n",
    "    ## API call\n",
    "    distance_matrix = ors_api.matrix(\n",
    "                locations=list_geo\n",
    "                ,profile='driving-car'\n",
    "                ,sources=sources_list\n",
    "                ,destinations=destinations_list            \n",
    "                ,dry_run = False\n",
    "            )\n",
    "    \n",
    "    ## Takes the results and puts it into a dataframe\n",
    "    for i, source in enumerate(list_gp_geo):\n",
    "        for j, destination in enumerate(shortlist_ae_geo):\n",
    "            matrix_results.append({\n",
    "                \"gp_long\": source[0],\n",
    "                \"gp_lat\": source[1],\n",
    "                \"ae_long\": destination[0],\n",
    "                \"ae_lat\": destination[1],\n",
    "                \"duration\": distance_matrix.durations[i][j]\n",
    "            })\n",
    "\n",
    "matrix_df = pd.DataFrame(matrix_results)"
   ]
  },
  {
   "cell_type": "markdown",
   "metadata": {},
   "source": [
    "## Wrangle results"
   ]
  },
  {
   "cell_type": "code",
   "execution_count": 72,
   "metadata": {},
   "outputs": [],
   "source": [
    "df_times = pd.merge(\n",
    "    matrix_df\n",
    "    ,df_gp_geo\n",
    "    ,left_on=[\"gp_lat\", \"gp_long\"]\n",
    "    ,right_on=[\"latitude\", \"longitude\"]\n",
    "    ,how=\"left\"\n",
    "    ,suffixes=('','_gp')\n",
    "    )\n",
    "\n",
    "df_times = pd.merge(\n",
    "    df_times\n",
    "    ,df_ae_geo\n",
    "    ,left_on=[\"ae_lat\", \"ae_long\"]\n",
    "    ,right_on=[\"latitude\", \"longitude\"]\n",
    "    ,how=\"left\"\n",
    "    ,suffixes=('','_ae')\n",
    "    )"
   ]
  },
  {
   "cell_type": "code",
   "execution_count": 76,
   "metadata": {},
   "outputs": [],
   "source": [
    "df_times = df_times[[\n",
    "            'GP Practice Code'\n",
    "            ,'GP Practice Name'\n",
    "            ,'UEC Site Code'\n",
    "            ,'UEC Site Name'\n",
    "            ,'duration']].copy()"
   ]
  },
  {
   "cell_type": "markdown",
   "metadata": {},
   "source": [
    "# Export data"
   ]
  },
  {
   "cell_type": "code",
   "execution_count": 79,
   "metadata": {},
   "outputs": [],
   "source": [
    "df_times.to_csv('gp_to_uec_travel_durations.csv', index=False)"
   ]
  }
 ],
 "metadata": {
  "kernelspec": {
   "display_name": "Python 3",
   "language": "python",
   "name": "python3"
  },
  "language_info": {
   "codemirror_mode": {
    "name": "ipython",
    "version": 3
   },
   "file_extension": ".py",
   "mimetype": "text/x-python",
   "name": "python",
   "nbconvert_exporter": "python",
   "pygments_lexer": "ipython3",
   "version": "3.11.4"
  }
 },
 "nbformat": 4,
 "nbformat_minor": 2
}
