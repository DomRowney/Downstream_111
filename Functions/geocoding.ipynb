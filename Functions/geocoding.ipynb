{
 "cells": [
  {
   "cell_type": "markdown",
   "metadata": {},
   "source": [
    "# Packages"
   ]
  },
  {
   "cell_type": "code",
   "execution_count": null,
   "metadata": {},
   "outputs": [],
   "source": [
    "import pandas as pd\n",
    "import numpy as np\n",
    "import sqlalchemy \n",
    "from sqlalchemy import create_engine, text\n",
    "from routingpy import ORS as ors\n",
    "import requests\n",
    "\n",
    "from db_secrets import SQL_107\n",
    "from ors_secrets import get_ors_key"
   ]
  },
  {
   "cell_type": "markdown",
   "metadata": {},
   "source": [
    "# Connection"
   ]
  },
  {
   "cell_type": "code",
   "execution_count": null,
   "metadata": {},
   "outputs": [],
   "source": [
    "## text for gp query\n",
    "gp_query_text = \"\"\"\n",
    "SELECT p.[Organisation_Code]\n",
    "      ,p.[Organisation_Name]\n",
    "\t  ,p.[Postcode]\n",
    "FROM [UK_Health_Dimensions].[ODS].[GP_Practices_And_Prescribing_CCs_SCD] AS p\n",
    "WHERE \n",
    "\t1=1\n",
    "\tAND\tp.[Is_Latest] = 1\n",
    "\tAND\tp.[High_Level_Health_Authority_Code]  = 'QHM'\n",
    "\tAND\tp.[Prescribing_Setting] = 4\n",
    "\tAND\tp.[Parent_Organisation_Code] != '01H'\n",
    "\"\"\""
   ]
  },
  {
   "cell_type": "code",
   "execution_count": null,
   "metadata": {},
   "outputs": [],
   "source": [
    "## text for site query\n",
    "ae_query_text = \"\"\"\n",
    "-- removes messages\n",
    "SET NOCOUNT ON\n",
    "\n",
    "-- Creates lookup for UCC sites\n",
    "DROP TABLE IF EXISTS #RXP_UCC\n",
    "CREATE TABLE #RXP_UCC (\n",
    "\t\t[ods_code] varchar(5)\n",
    "\t,\t[site_name] varchar(250)\n",
    "\t);\n",
    "INSERT INTO #RXP_UCC ([ods_code],[site_name])\n",
    "VALUES\n",
    "\t ('RXPRD','Seaham Urgent Care Centre'\t\t\t   )\n",
    "\t,('RXP09','Peterlee Urgent Care Centre'\t\t\t   )\n",
    "\t,('RXP09','Peterlee UTC'\t\t\t\t\t\t   )\n",
    "\t,('RXPCP','OOH University Hospital of North Durham')\n",
    "\t,('RXPCP','Durham UTC'\t\t\t\t\t\t\t   )\n",
    "\t,('RXPDA','Darlington UTC'\t\t\t\t\t\t   )\n",
    "\t,('RXPDA','Darlington Out of Hours Service'\t\t   )\n",
    "\t,('RXPBA','Bishop Auckland Urgent Care Centre'\t   )\n",
    "\t,('RXPBA','Bishop Auckland UTC'\t\t\t\t\t   )\n",
    "\t,('RXP11','Shotley Bridge UTC'\t\t\t\t\t   )\n",
    "\t,('RXP11','OOH Shotley Bridge Urgent Care Centre'  );\n",
    "\n",
    "-- Gets postcodes\n",
    "SELECT DISTINCT \n",
    "\t\ta.[ods_code]\n",
    "\t,\tt.[Organisation_Name]\n",
    "\t,\tt.[Postcode]\n",
    "FROM \n",
    "\t(\tSELECT DISTINCT\n",
    "\t\t\t[attendance.location.site] AS [ods_code]\n",
    "\t\tFROM\n",
    "\t\t\t[LocalDataNECS].[ecds].[emergency_care]\tAS a\n",
    "\t\tWHERE\n",
    "\t\t\t1=1\n",
    "\t\t\tAND a.[attendance.location.department_type] in ('01','02','03','04')\n",
    "\t\t\tAND a.[attendance.location.hes_provider_3] in ('RTD','RR7','RTF','RXP','RVW','RTR','R0B','RNN')\n",
    "\t\t\tAND a.[attendance.arrival.date] >= '2022-01-1'\n",
    "\t\tUNION ALL\n",
    "\t\tSELECT\n",
    "\t\t\t[ods_code]\n",
    "\t\tFROM \n",
    "\t\t\t#RXP_UCC AS u) AS a\n",
    "\tLEFT JOIN\t[UK_Health_Dimensions].[ODS].[NHS_Trusts_And_Trust_Sites_SCD] AS t\n",
    "\t\t\tON\tt.[Is_Latest] = 1\n",
    "\t\t\tAND a.[ods_code] = t.[Organisation_Code];\n",
    "\n",
    "DROP TABLE IF EXISTS #RXP_UCC;\n",
    "\"\"\""
   ]
  },
  {
   "cell_type": "code",
   "execution_count": null,
   "metadata": {},
   "outputs": [],
   "source": [
    "## Create an engine + connection\n",
    "engine = create_engine(SQL_107())\n",
    "conn = engine.connect()\n",
    "\n",
    "## Return data\n",
    "df_gp_raw = pd.read_sql(gp_query_text,conn)\n",
    "df_ae_raw = pd.read_sql(ae_query_text,conn)\n"
   ]
  },
  {
   "cell_type": "code",
   "execution_count": null,
   "metadata": {},
   "outputs": [],
   "source": [
    "df_gp = df_gp_raw.copy()\n",
    "df_ae = df_ae_raw.copy()"
   ]
  },
  {
   "cell_type": "markdown",
   "metadata": {},
   "source": [
    "# Lat / Long"
   ]
  },
  {
   "cell_type": "markdown",
   "metadata": {},
   "source": [
    "## API to get lat/long"
   ]
  },
  {
   "cell_type": "code",
   "execution_count": null,
   "metadata": {},
   "outputs": [],
   "source": [
    "def fetch_lat_lon(data, col):\n",
    "    \n",
    "    # Convert the postcodes from the DataFrame into a list\n",
    "    postcodes = data[col].tolist()\n",
    "\n",
    "    # to split data into 100s\n",
    "    n = round(data[col].count()/100)\n",
    "\n",
    "    # results list\n",
    "    results = []\n",
    "\n",
    "    for x in range(0,n+1):\n",
    "        \n",
    "        # 100 rows\n",
    "        start = x*100\n",
    "        end = (x*100)+100\n",
    "        \n",
    "        # Prepare the payload for the POST request\n",
    "        payload = {\"postcodes\": postcodes[start:end]}\n",
    "        \n",
    "        # Make the POST request to the API\n",
    "        response = requests.post(\"https://api.postcodes.io/postcodes\", json=payload)\n",
    "        \n",
    "        # Check if the response is successful\n",
    "        if response.status_code == 200:\n",
    "            print(f'Status 200. Fetched rows: {start} to {end-1}')\n",
    "\n",
    "            # Parse the JSON response\n",
    "            response_data = response.json()\n",
    "            \n",
    "            # Extract latitude and longitude from each result\n",
    "\n",
    "            for i in response_data['result']:\n",
    "                if i['result']:  # Ensure there is a valid result\n",
    "                    lat = i['result']['latitude']\n",
    "                    lon = i['result']['longitude']\n",
    "                    results.append({\"postcode\": i['query']\n",
    "                                    , \"latitude\": lat, \"longitude\": lon})\n",
    "                else:\n",
    "                    results.append({\"postcode\": i['query']\n",
    "                                    , \"latitude\": None, \"longitude\": None})\n",
    "        else:\n",
    "            break\n",
    "\n",
    "    # checks if last response was sucessful\n",
    "    if response.status_code == 200:           \n",
    "        # Convert results into a DataFrame\n",
    "        results_df = pd.DataFrame(results).drop_duplicates()\n",
    "\n",
    "        # joins results back into data\n",
    "        data = data.merge(results_df, how = 'left'\n",
    "                            ,left_on=col, right_on='postcode')\n",
    "        return(data)\n",
    "    \n",
    "    # print error message if api fails\n",
    "    else:\n",
    "        print(\"Failed to fetch data:\", response.status_code)\n",
    "        return None"
   ]
  },
  {
   "cell_type": "markdown",
   "metadata": {},
   "source": [
    "## Fetch lat/long"
   ]
  },
  {
   "cell_type": "code",
   "execution_count": null,
   "metadata": {},
   "outputs": [],
   "source": [
    "# Fetch lat/lon for each postcode in the DataFrame\n",
    "df_gp_geo = fetch_lat_lon(df_gp,'Postcode')\n",
    "df_ae_geo = fetch_lat_lon(df_ae,'Postcode')"
   ]
  },
  {
   "cell_type": "code",
   "execution_count": null,
   "metadata": {},
   "outputs": [],
   "source": [
    "df_gp_geo.head()"
   ]
  },
  {
   "cell_type": "markdown",
   "metadata": {},
   "source": [
    "# Routing"
   ]
  },
  {
   "cell_type": "code",
   "execution_count": null,
   "metadata": {},
   "outputs": [],
   "source": [
    "list_gp_geo = df_gp_geo[['longitude','latitude']].values.tolist()\n",
    "list_ae_geo = df_ae_geo[['longitude','latitude']].values.tolist()\n",
    "\n",
    "\n",
    "len_gp = len(list_gp_geo)\n",
    "len_ae = len(list_ae_geo)\n",
    "sources_list=list(range(0,len_gp))\n",
    "destinations_list=list(range(len_gp,len_gp+len_ae))\n",
    "\n",
    "list_geo = list_gp_geo + list_ae_geo"
   ]
  },
  {
   "cell_type": "code",
   "execution_count": null,
   "metadata": {},
   "outputs": [],
   "source": [
    "ors_api = ors(api_key=get_ors_key())"
   ]
  },
  {
   "cell_type": "code",
   "execution_count": null,
   "metadata": {},
   "outputs": [],
   "source": [
    "distance_matrix = ors_api.matrix(\n",
    "             locations=list_geo\n",
    "            ,profile='driving-car'\n",
    "            ,sources=sources_list\n",
    "            ,destinations=destinations_list            \n",
    "            ,dry_run = False\n",
    "        )\n"
   ]
  }
 ],
 "metadata": {
  "kernelspec": {
   "display_name": "Python 3",
   "language": "python",
   "name": "python3"
  },
  "language_info": {
   "codemirror_mode": {
    "name": "ipython",
    "version": 3
   },
   "file_extension": ".py",
   "mimetype": "text/x-python",
   "name": "python",
   "nbconvert_exporter": "python",
   "pygments_lexer": "ipython3",
   "version": "3.11.4"
  }
 },
 "nbformat": 4,
 "nbformat_minor": 2
}
